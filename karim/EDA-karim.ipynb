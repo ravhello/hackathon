{
 "cells": [
  {
   "cell_type": "code",
   "execution_count": 1,
   "metadata": {},
   "outputs": [],
   "source": [
    "import pandas as pd\n",
    "import numpy as np\n",
    "import os\n",
    "from itertools import combinations\n",
    "import matplotlib.pyplot as plt\n",
    "import seaborn as sns\n",
    "from surprise import Dataset, Reader, SVD\n",
    "from surprise.model_selection import train_test_split"
   ]
  },
  {
   "cell_type": "code",
   "execution_count": 112,
   "metadata": {},
   "outputs": [],
   "source": [
    "clients = pd.read_csv('./data/clients.csv')\n",
    "products = pd.read_csv('./data/products.csv')\n",
    "stocks = pd.read_csv('./data/stocks.csv')\n",
    "stores = pd.read_csv('./data/stores.csv')\n",
    "transactions = pd.read_csv('./data/transactions.csv')"
   ]
  },
  {
   "cell_type": "code",
   "execution_count": 120,
   "metadata": {},
   "outputs": [
    {
     "name": "stdout",
     "output_type": "stream",
     "text": [
      "clients:  Index(['ClientID', 'ClientSegment', 'ClientCountry', 'ClientOptINEmail',\n",
      "       'ClientOptINPhone', 'ClientGender', 'Age'],\n",
      "      dtype='object')\n",
      "products:  Index(['ProductID', 'Category', 'FamilyLevel1', 'FamilyLevel2', 'Universe'], dtype='object')\n",
      "stocks:  Index(['StoreCountry', 'ProductID', 'Quantity'], dtype='object')\n",
      "stores:  Index(['StoreID', 'StoreCountry'], dtype='object')\n",
      "transactions:  Index(['ClientID', 'ProductID', 'SaleTransactionDate', 'StoreID', 'Quantity',\n",
      "       'SalesNetAmountEuro'],\n",
      "      dtype='object')\n"
     ]
    }
   ],
   "source": [
    "print('clients: ', clients.columns)\n",
    "print('products: ', products.columns)\n",
    "print('stocks: ',stocks.columns)\n",
    "print('stores: ',stores.columns)\n",
    "print('transactions: ', transactions.columns)"
   ]
  },
  {
   "cell_type": "code",
   "execution_count": 4,
   "metadata": {},
   "outputs": [
    {
     "data": {
      "application/vnd.microsoft.datawrangler.viewer.v0+json": {
       "columns": [
        {
         "name": "index",
         "rawType": "int64",
         "type": "integer"
        },
        {
         "name": "ClientID",
         "rawType": "int64",
         "type": "integer"
        },
        {
         "name": "ProductID",
         "rawType": "int64",
         "type": "integer"
        },
        {
         "name": "SaleTransactionDate",
         "rawType": "object",
         "type": "string"
        },
        {
         "name": "StoreID",
         "rawType": "int64",
         "type": "integer"
        },
        {
         "name": "Quantity",
         "rawType": "int64",
         "type": "integer"
        },
        {
         "name": "SalesNetAmountEuro",
         "rawType": "float64",
         "type": "float"
        }
       ],
       "conversionMethod": "pd.DataFrame",
       "ref": "e841a999-0293-4755-86b3-334f3d027aec",
       "rows": [
        [
         "0",
         "8119209481417068505",
         "3532473209579560668",
         "2023-06-06 00:00:00+00:00",
         "4821951108133690356",
         "4",
         "56.97"
        ],
        [
         "1",
         "2497726585282787281",
         "5103640511191568912",
         "2023-09-20 00:00:00+00:00",
         "1450109522794525790",
         "1",
         "5.99"
        ],
        [
         "2",
         "7673687066317773168",
         "4923931302917549451",
         "2023-12-16 00:00:00+00:00",
         "1821464542701843363",
         "2",
         "16.99"
        ],
        [
         "3",
         "1873234305263900608",
         "8502620308847538595",
         "2023-01-31 00:00:00+00:00",
         "2686511472610728845",
         "4",
         "140.97"
        ],
        [
         "4",
         "3913817537779196185",
         "8573693021421318503",
         "2024-01-23 00:00:00+00:00",
         "3600233866627167751",
         "1",
         "10.99"
        ]
       ],
       "shape": {
        "columns": 6,
        "rows": 5
       }
      },
      "text/html": [
       "<div>\n",
       "<style scoped>\n",
       "    .dataframe tbody tr th:only-of-type {\n",
       "        vertical-align: middle;\n",
       "    }\n",
       "\n",
       "    .dataframe tbody tr th {\n",
       "        vertical-align: top;\n",
       "    }\n",
       "\n",
       "    .dataframe thead th {\n",
       "        text-align: right;\n",
       "    }\n",
       "</style>\n",
       "<table border=\"1\" class=\"dataframe\">\n",
       "  <thead>\n",
       "    <tr style=\"text-align: right;\">\n",
       "      <th></th>\n",
       "      <th>ClientID</th>\n",
       "      <th>ProductID</th>\n",
       "      <th>SaleTransactionDate</th>\n",
       "      <th>StoreID</th>\n",
       "      <th>Quantity</th>\n",
       "      <th>SalesNetAmountEuro</th>\n",
       "    </tr>\n",
       "  </thead>\n",
       "  <tbody>\n",
       "    <tr>\n",
       "      <th>0</th>\n",
       "      <td>8119209481417068505</td>\n",
       "      <td>3532473209579560668</td>\n",
       "      <td>2023-06-06 00:00:00+00:00</td>\n",
       "      <td>4821951108133690356</td>\n",
       "      <td>4</td>\n",
       "      <td>56.97</td>\n",
       "    </tr>\n",
       "    <tr>\n",
       "      <th>1</th>\n",
       "      <td>2497726585282787281</td>\n",
       "      <td>5103640511191568912</td>\n",
       "      <td>2023-09-20 00:00:00+00:00</td>\n",
       "      <td>1450109522794525790</td>\n",
       "      <td>1</td>\n",
       "      <td>5.99</td>\n",
       "    </tr>\n",
       "    <tr>\n",
       "      <th>2</th>\n",
       "      <td>7673687066317773168</td>\n",
       "      <td>4923931302917549451</td>\n",
       "      <td>2023-12-16 00:00:00+00:00</td>\n",
       "      <td>1821464542701843363</td>\n",
       "      <td>2</td>\n",
       "      <td>16.99</td>\n",
       "    </tr>\n",
       "    <tr>\n",
       "      <th>3</th>\n",
       "      <td>1873234305263900608</td>\n",
       "      <td>8502620308847538595</td>\n",
       "      <td>2023-01-31 00:00:00+00:00</td>\n",
       "      <td>2686511472610728845</td>\n",
       "      <td>4</td>\n",
       "      <td>140.97</td>\n",
       "    </tr>\n",
       "    <tr>\n",
       "      <th>4</th>\n",
       "      <td>3913817537779196185</td>\n",
       "      <td>8573693021421318503</td>\n",
       "      <td>2024-01-23 00:00:00+00:00</td>\n",
       "      <td>3600233866627167751</td>\n",
       "      <td>1</td>\n",
       "      <td>10.99</td>\n",
       "    </tr>\n",
       "  </tbody>\n",
       "</table>\n",
       "</div>"
      ],
      "text/plain": [
       "              ClientID            ProductID        SaleTransactionDate  \\\n",
       "0  8119209481417068505  3532473209579560668  2023-06-06 00:00:00+00:00   \n",
       "1  2497726585282787281  5103640511191568912  2023-09-20 00:00:00+00:00   \n",
       "2  7673687066317773168  4923931302917549451  2023-12-16 00:00:00+00:00   \n",
       "3  1873234305263900608  8502620308847538595  2023-01-31 00:00:00+00:00   \n",
       "4  3913817537779196185  8573693021421318503  2024-01-23 00:00:00+00:00   \n",
       "\n",
       "               StoreID  Quantity  SalesNetAmountEuro  \n",
       "0  4821951108133690356         4               56.97  \n",
       "1  1450109522794525790         1                5.99  \n",
       "2  1821464542701843363         2               16.99  \n",
       "3  2686511472610728845         4              140.97  \n",
       "4  3600233866627167751         1               10.99  "
      ]
     },
     "execution_count": 4,
     "metadata": {},
     "output_type": "execute_result"
    }
   ],
   "source": [
    "transactions.head()"
   ]
  },
  {
   "cell_type": "code",
   "execution_count": 5,
   "metadata": {},
   "outputs": [],
   "source": [
    "transactions['SaleTransactionDate'] = transactions['SaleTransactionDate'].astype(str).str[:10]\n",
    "transactions['SaleTransactionDate'] = pd.to_datetime(transactions['SaleTransactionDate'])"
   ]
  },
  {
   "cell_type": "code",
   "execution_count": 118,
   "metadata": {},
   "outputs": [
    {
     "data": {
      "image/png": "[encoded data removed]",
      "text/plain": [
       "<Figure size 720x360 with 1 Axes>"
      ]
     },
     "metadata": {
      "needs_background": "light"
     },
     "output_type": "display_data"
    }
   ],
   "source": [
    "product_ID = 3532473209579560668\n",
    "prods = transactions[transactions['ProductID']==product_ID]\n",
    "prods = prods.sort_values(by='SaleTransactionDate')\n",
    "\n",
    "plt.figure(figsize=(10, 5))\n",
    "plt.plot(prods['SaleTransactionDate'], prods['SalesNetAmountEuro'], linestyle='-')\n",
    "\n",
    "# Labels and title\n",
    "plt.xlabel('Date')\n",
    "plt.ylabel('Sales')\n",
    "plt.title(f'Sales Trend for Product ID {product_ID}')\n",
    "plt.xticks(rotation=45)\n",
    "plt.grid()\n",
    "\n",
    "# Show plot\n",
    "plt.show()"
   ]
  },
  {
   "cell_type": "markdown",
   "metadata": {},
   "source": [
    "## Transaction Clustering (Same Client, Same date, different products)"
   ]
  },
  {
   "cell_type": "code",
   "execution_count": 7,
   "metadata": {},
   "outputs": [],
   "source": [
    "grouped_df = transactions.groupby(['ClientID', 'SaleTransactionDate']).agg(\n",
    "    total_quantity=('Quantity', 'sum'), \n",
    "    total_amount_spent=('SalesNetAmountEuro', 'sum'),\n",
    "    transaction_count=('ProductID', 'count')\n",
    ").reset_index()\n",
    "\n",
    "# Display the grouped DataFrame\n",
    "# grouped_df.head(25)"
   ]
  },
  {
   "cell_type": "markdown",
   "metadata": {},
   "source": [
    "### Product life-cycle"
   ]
  },
  {
   "cell_type": "code",
   "execution_count": 8,
   "metadata": {},
   "outputs": [
    {
     "data": {
      "application/vnd.microsoft.datawrangler.viewer.v0+json": {
       "columns": [
        {
         "name": "index",
         "rawType": "int64",
         "type": "integer"
        },
        {
         "name": "ClientID",
         "rawType": "int64",
         "type": "integer"
        },
        {
         "name": "ProductID",
         "rawType": "int64",
         "type": "integer"
        },
        {
         "name": "SaleTransactionDate",
         "rawType": "datetime64[ns]",
         "type": "datetime"
        },
        {
         "name": "StoreID",
         "rawType": "int64",
         "type": "integer"
        },
        {
         "name": "Quantity",
         "rawType": "int64",
         "type": "integer"
        },
        {
         "name": "SalesNetAmountEuro",
         "rawType": "float64",
         "type": "float"
        }
       ],
       "conversionMethod": "pd.DataFrame",
       "ref": "f055f5e2-b303-44bb-a22c-9947bd33c5ad",
       "rows": [
        [
         "0",
         "2497726585282787281",
         "5103640511191568912",
         "2023-09-20 00:00:00",
         "1450109522794525790",
         "1",
         "5.99"
        ],
        [
         "1",
         "3913817537779196185",
         "8573693021421318503",
         "2024-01-23 00:00:00",
         "3600233866627167751",
         "1",
         "10.99"
        ],
        [
         "2",
         "3183538914940113691",
         "4264340979150525540",
         "2024-07-20 00:00:00",
         "9099531021898466037",
         "4",
         "50.97"
        ],
        [
         "3",
         "970324337306047537",
         "8984524553119131282",
         "2023-04-21 00:00:00",
         "1462011113949538177",
         "1",
         "5.99"
        ],
        [
         "4",
         "4516550870786564525",
         "6488384657788009650",
         "2024-06-04 00:00:00",
         "3325697448103923280",
         "1",
         "5.99"
        ]
       ],
       "shape": {
        "columns": 6,
        "rows": 5
       }
      },
      "text/html": [
       "<div>\n",
       "<style scoped>\n",
       "    .dataframe tbody tr th:only-of-type {\n",
       "        vertical-align: middle;\n",
       "    }\n",
       "\n",
       "    .dataframe tbody tr th {\n",
       "        vertical-align: top;\n",
       "    }\n",
       "\n",
       "    .dataframe thead th {\n",
       "        text-align: right;\n",
       "    }\n",
       "</style>\n",
       "<table border=\"1\" class=\"dataframe\">\n",
       "  <thead>\n",
       "    <tr style=\"text-align: right;\">\n",
       "      <th></th>\n",
       "      <th>ClientID</th>\n",
       "      <th>ProductID</th>\n",
       "      <th>SaleTransactionDate</th>\n",
       "      <th>StoreID</th>\n",
       "      <th>Quantity</th>\n",
       "      <th>SalesNetAmountEuro</th>\n",
       "    </tr>\n",
       "  </thead>\n",
       "  <tbody>\n",
       "    <tr>\n",
       "      <th>0</th>\n",
       "      <td>2497726585282787281</td>\n",
       "      <td>5103640511191568912</td>\n",
       "      <td>2023-09-20</td>\n",
       "      <td>1450109522794525790</td>\n",
       "      <td>1</td>\n",
       "      <td>5.99</td>\n",
       "    </tr>\n",
       "    <tr>\n",
       "      <th>1</th>\n",
       "      <td>3913817537779196185</td>\n",
       "      <td>8573693021421318503</td>\n",
       "      <td>2024-01-23</td>\n",
       "      <td>3600233866627167751</td>\n",
       "      <td>1</td>\n",
       "      <td>10.99</td>\n",
       "    </tr>\n",
       "    <tr>\n",
       "      <th>2</th>\n",
       "      <td>3183538914940113691</td>\n",
       "      <td>4264340979150525540</td>\n",
       "      <td>2024-07-20</td>\n",
       "      <td>9099531021898466037</td>\n",
       "      <td>4</td>\n",
       "      <td>50.97</td>\n",
       "    </tr>\n",
       "    <tr>\n",
       "      <th>3</th>\n",
       "      <td>970324337306047537</td>\n",
       "      <td>8984524553119131282</td>\n",
       "      <td>2023-04-21</td>\n",
       "      <td>1462011113949538177</td>\n",
       "      <td>1</td>\n",
       "      <td>5.99</td>\n",
       "    </tr>\n",
       "    <tr>\n",
       "      <th>4</th>\n",
       "      <td>4516550870786564525</td>\n",
       "      <td>6488384657788009650</td>\n",
       "      <td>2024-06-04</td>\n",
       "      <td>3325697448103923280</td>\n",
       "      <td>1</td>\n",
       "      <td>5.99</td>\n",
       "    </tr>\n",
       "  </tbody>\n",
       "</table>\n",
       "</div>"
      ],
      "text/plain": [
       "              ClientID            ProductID SaleTransactionDate  \\\n",
       "0  2497726585282787281  5103640511191568912          2023-09-20   \n",
       "1  3913817537779196185  8573693021421318503          2024-01-23   \n",
       "2  3183538914940113691  4264340979150525540          2024-07-20   \n",
       "3   970324337306047537  8984524553119131282          2023-04-21   \n",
       "4  4516550870786564525  6488384657788009650          2024-06-04   \n",
       "\n",
       "               StoreID  Quantity  SalesNetAmountEuro  \n",
       "0  1450109522794525790         1                5.99  \n",
       "1  3600233866627167751         1               10.99  \n",
       "2  9099531021898466037         4               50.97  \n",
       "3  1462011113949538177         1                5.99  \n",
       "4  3325697448103923280         1                5.99  "
      ]
     },
     "execution_count": 8,
     "metadata": {},
     "output_type": "execute_result"
    }
   ],
   "source": [
    "# Step 1: Group by 'ClientID' and 'ProductID' and count the unique 'SaleTransactionDate'\n",
    "count_dates = transactions.groupby(['ClientID', 'ProductID'])['SaleTransactionDate'].nunique().reset_index()\n",
    "\n",
    "# Step 2: Filter for rows where 'SaleTransactionDate' count is greater than 1\n",
    "multiple_dates = count_dates[count_dates['SaleTransactionDate'] > 1]\n",
    "\n",
    "# Step 3: Merge back to get the original rows\n",
    "result = transactions.merge(multiple_dates[['ClientID', 'ProductID']], on=['ClientID', 'ProductID'], how='inner')\n",
    "\n",
    "# Display the result (rows where the same product was bought on different dates)\n",
    "result.head()\n"
   ]
  },
  {
   "cell_type": "code",
   "execution_count": 9,
   "metadata": {},
   "outputs": [
    {
     "data": {
      "application/vnd.microsoft.datawrangler.viewer.v0+json": {
       "columns": [
        {
         "name": "index",
         "rawType": "int64",
         "type": "integer"
        },
        {
         "name": "ClientID",
         "rawType": "int64",
         "type": "integer"
        },
        {
         "name": "ProductID",
         "rawType": "int64",
         "type": "integer"
        },
        {
         "name": "SaleTransactionDate",
         "rawType": "datetime64[ns]",
         "type": "datetime"
        },
        {
         "name": "StoreID",
         "rawType": "int64",
         "type": "integer"
        },
        {
         "name": "Quantity",
         "rawType": "int64",
         "type": "integer"
        },
        {
         "name": "SalesNetAmountEuro",
         "rawType": "float64",
         "type": "float"
        }
       ],
       "conversionMethod": "pd.DataFrame",
       "ref": "04b5e4fd-36b2-4d49-bbb1-d4ec60894d41",
       "rows": [
        [
         "0",
         "487831788379074",
         "2820126687947308401",
         "2023-06-15 00:00:00",
         "5202366601222773915",
         "2",
         "9.99"
        ],
        [
         "1",
         "487831788379074",
         "5814271529755388521",
         "2023-06-15 00:00:00",
         "5202366601222773915",
         "2",
         "8.99"
        ],
        [
         "2",
         "487831788379074",
         "596160146527302814",
         "2023-11-15 00:00:00",
         "5202366601222773915",
         "1",
         "3.99"
        ],
        [
         "3",
         "487831788379074",
         "3245181039283805384",
         "2023-11-15 00:00:00",
         "5202366601222773915",
         "2",
         "4.99"
        ],
        [
         "4",
         "487831788379074",
         "845645642533440388",
         "2023-11-16 00:00:00",
         "5202366601222773915",
         "3",
         "15.98"
        ],
        [
         "5",
         "487831788379074",
         "4772494314287191459",
         "2023-11-16 00:00:00",
         "5202366601222773915",
         "4",
         "14.97"
        ],
        [
         "6",
         "624987180068091",
         "4088240615781117851",
         "2024-02-13 00:00:00",
         "3325697448103923280",
         "1",
         "16.990000000000002"
        ],
        [
         "7",
         "624987180068091",
         "6836501382109623577",
         "2024-02-13 00:00:00",
         "3325697448103923280",
         "2",
         "20.99"
        ],
        [
         "8",
         "633157752238300",
         "7351594082589762847",
         "2024-12-19 00:00:00",
         "7242889412692100661",
         "2",
         "25.99"
        ],
        [
         "9",
         "633157752238300",
         "7824611703074545864",
         "2024-12-19 00:00:00",
         "7242889412692100661",
         "1",
         "76.99"
        ],
        [
         "10",
         "919214563541168",
         "220792175035204039",
         "2024-02-20 00:00:00",
         "6138815706411501953",
         "4",
         "236.97"
        ],
        [
         "11",
         "919214563541168",
         "5632040381632915950",
         "2024-02-20 00:00:00",
         "6138815706411501953",
         "2",
         "61.99"
        ],
        [
         "12",
         "919214563541168",
         "5634004511739423407",
         "2024-08-08 00:00:00",
         "6138815706411501953",
         "1",
         "86.99"
        ],
        [
         "13",
         "919214563541168",
         "8501557847365769096",
         "2024-08-08 00:00:00",
         "6138815706411501953",
         "3",
         "103.98"
        ],
        [
         "14",
         "919214563541168",
         "1247146807749338537",
         "2024-08-09 00:00:00",
         "6138815706411501953",
         "1",
         "28.99"
        ],
        [
         "15",
         "919214563541168",
         "1789143569441177651",
         "2024-08-09 00:00:00",
         "6138815706411501953",
         "2",
         "28.99"
        ],
        [
         "16",
         "919214563541168",
         "9136780913780124967",
         "2024-08-09 00:00:00",
         "6138815706411501953",
         "1",
         "39.99"
        ],
        [
         "17",
         "919214563541168",
         "9197960159823377749",
         "2024-08-09 00:00:00",
         "6138815706411501953",
         "1",
         "21.99"
        ],
        [
         "18",
         "919214563541168",
         "3399265694842049330",
         "2024-08-10 00:00:00",
         "6138815706411501953",
         "1",
         "19.99"
        ],
        [
         "19",
         "919214563541168",
         "3563739037975684392",
         "2024-08-10 00:00:00",
         "6138815706411501953",
         "2",
         "21.99"
        ],
        [
         "20",
         "919214563541168",
         "5729742592468372175",
         "2024-08-10 00:00:00",
         "6138815706411501953",
         "3",
         "57.98"
        ],
        [
         "21",
         "919214563541168",
         "6062341130508430592",
         "2024-08-10 00:00:00",
         "6138815706411501953",
         "2",
         "40.99"
        ],
        [
         "22",
         "949715198858686",
         "925947725167355288",
         "2023-10-09 00:00:00",
         "1672441090591814031",
         "2",
         "25.99"
        ],
        [
         "23",
         "949715198858686",
         "5444065341161631686",
         "2023-10-09 00:00:00",
         "1672441090591814031",
         "2",
         "44.99"
        ],
        [
         "24",
         "949715198858686",
         "6908859136656758182",
         "2023-10-09 00:00:00",
         "1672441090591814031",
         "3",
         "159.98"
        ]
       ],
       "shape": {
        "columns": 6,
        "rows": 25
       }
      },
      "text/html": [
       "<div>\n",
       "<style scoped>\n",
       "    .dataframe tbody tr th:only-of-type {\n",
       "        vertical-align: middle;\n",
       "    }\n",
       "\n",
       "    .dataframe tbody tr th {\n",
       "        vertical-align: top;\n",
       "    }\n",
       "\n",
       "    .dataframe thead th {\n",
       "        text-align: right;\n",
       "    }\n",
       "</style>\n",
       "<table border=\"1\" class=\"dataframe\">\n",
       "  <thead>\n",
       "    <tr style=\"text-align: right;\">\n",
       "      <th></th>\n",
       "      <th>ClientID</th>\n",
       "      <th>ProductID</th>\n",
       "      <th>SaleTransactionDate</th>\n",
       "      <th>StoreID</th>\n",
       "      <th>Quantity</th>\n",
       "      <th>SalesNetAmountEuro</th>\n",
       "    </tr>\n",
       "  </thead>\n",
       "  <tbody>\n",
       "    <tr>\n",
       "      <th>0</th>\n",
       "      <td>487831788379074</td>\n",
       "      <td>2820126687947308401</td>\n",
       "      <td>2023-06-15</td>\n",
       "      <td>5202366601222773915</td>\n",
       "      <td>2</td>\n",
       "      <td>9.99</td>\n",
       "    </tr>\n",
       "    <tr>\n",
       "      <th>1</th>\n",
       "      <td>487831788379074</td>\n",
       "      <td>5814271529755388521</td>\n",
       "      <td>2023-06-15</td>\n",
       "      <td>5202366601222773915</td>\n",
       "      <td>2</td>\n",
       "      <td>8.99</td>\n",
       "    </tr>\n",
       "    <tr>\n",
       "      <th>2</th>\n",
       "      <td>487831788379074</td>\n",
       "      <td>596160146527302814</td>\n",
       "      <td>2023-11-15</td>\n",
       "      <td>5202366601222773915</td>\n",
       "      <td>1</td>\n",
       "      <td>3.99</td>\n",
       "    </tr>\n",
       "    <tr>\n",
       "      <th>3</th>\n",
       "      <td>487831788379074</td>\n",
       "      <td>3245181039283805384</td>\n",
       "      <td>2023-11-15</td>\n",
       "      <td>5202366601222773915</td>\n",
       "      <td>2</td>\n",
       "      <td>4.99</td>\n",
       "    </tr>\n",
       "    <tr>\n",
       "      <th>4</th>\n",
       "      <td>487831788379074</td>\n",
       "      <td>845645642533440388</td>\n",
       "      <td>2023-11-16</td>\n",
       "      <td>5202366601222773915</td>\n",
       "      <td>3</td>\n",
       "      <td>15.98</td>\n",
       "    </tr>\n",
       "    <tr>\n",
       "      <th>5</th>\n",
       "      <td>487831788379074</td>\n",
       "      <td>4772494314287191459</td>\n",
       "      <td>2023-11-16</td>\n",
       "      <td>5202366601222773915</td>\n",
       "      <td>4</td>\n",
       "      <td>14.97</td>\n",
       "    </tr>\n",
       "    <tr>\n",
       "      <th>6</th>\n",
       "      <td>624987180068091</td>\n",
       "      <td>4088240615781117851</td>\n",
       "      <td>2024-02-13</td>\n",
       "      <td>3325697448103923280</td>\n",
       "      <td>1</td>\n",
       "      <td>16.99</td>\n",
       "    </tr>\n",
       "    <tr>\n",
       "      <th>7</th>\n",
       "      <td>624987180068091</td>\n",
       "      <td>6836501382109623577</td>\n",
       "      <td>2024-02-13</td>\n",
       "      <td>3325697448103923280</td>\n",
       "      <td>2</td>\n",
       "      <td>20.99</td>\n",
       "    </tr>\n",
       "    <tr>\n",
       "      <th>8</th>\n",
       "      <td>633157752238300</td>\n",
       "      <td>7351594082589762847</td>\n",
       "      <td>2024-12-19</td>\n",
       "      <td>7242889412692100661</td>\n",
       "      <td>2</td>\n",
       "      <td>25.99</td>\n",
       "    </tr>\n",
       "    <tr>\n",
       "      <th>9</th>\n",
       "      <td>633157752238300</td>\n",
       "      <td>7824611703074545864</td>\n",
       "      <td>2024-12-19</td>\n",
       "      <td>7242889412692100661</td>\n",
       "      <td>1</td>\n",
       "      <td>76.99</td>\n",
       "    </tr>\n",
       "    <tr>\n",
       "      <th>10</th>\n",
       "      <td>919214563541168</td>\n",
       "      <td>220792175035204039</td>\n",
       "      <td>2024-02-20</td>\n",
       "      <td>6138815706411501953</td>\n",
       "      <td>4</td>\n",
       "      <td>236.97</td>\n",
       "    </tr>\n",
       "    <tr>\n",
       "      <th>11</th>\n",
       "      <td>919214563541168</td>\n",
       "      <td>5632040381632915950</td>\n",
       "      <td>2024-02-20</td>\n",
       "      <td>6138815706411501953</td>\n",
       "      <td>2</td>\n",
       "      <td>61.99</td>\n",
       "    </tr>\n",
       "    <tr>\n",
       "      <th>12</th>\n",
       "      <td>919214563541168</td>\n",
       "      <td>5634004511739423407</td>\n",
       "      <td>2024-08-08</td>\n",
       "      <td>6138815706411501953</td>\n",
       "      <td>1</td>\n",
       "      <td>86.99</td>\n",
       "    </tr>\n",
       "    <tr>\n",
       "      <th>13</th>\n",
       "      <td>919214563541168</td>\n",
       "      <td>8501557847365769096</td>\n",
       "      <td>2024-08-08</td>\n",
       "      <td>6138815706411501953</td>\n",
       "      <td>3</td>\n",
       "      <td>103.98</td>\n",
       "    </tr>\n",
       "    <tr>\n",
       "      <th>14</th>\n",
       "      <td>919214563541168</td>\n",
       "      <td>1247146807749338537</td>\n",
       "      <td>2024-08-09</td>\n",
       "      <td>6138815706411501953</td>\n",
       "      <td>1</td>\n",
       "      <td>28.99</td>\n",
       "    </tr>\n",
       "    <tr>\n",
       "      <th>15</th>\n",
       "      <td>919214563541168</td>\n",
       "      <td>1789143569441177651</td>\n",
       "      <td>2024-08-09</td>\n",
       "      <td>6138815706411501953</td>\n",
       "      <td>2</td>\n",
       "      <td>28.99</td>\n",
       "    </tr>\n",
       "    <tr>\n",
       "      <th>16</th>\n",
       "      <td>919214563541168</td>\n",
       "      <td>9136780913780124967</td>\n",
       "      <td>2024-08-09</td>\n",
       "      <td>6138815706411501953</td>\n",
       "      <td>1</td>\n",
       "      <td>39.99</td>\n",
       "    </tr>\n",
       "    <tr>\n",
       "      <th>17</th>\n",
       "      <td>919214563541168</td>\n",
       "      <td>9197960159823377749</td>\n",
       "      <td>2024-08-09</td>\n",
       "      <td>6138815706411501953</td>\n",
       "      <td>1</td>\n",
       "      <td>21.99</td>\n",
       "    </tr>\n",
       "    <tr>\n",
       "      <th>18</th>\n",
       "      <td>919214563541168</td>\n",
       "      <td>3399265694842049330</td>\n",
       "      <td>2024-08-10</td>\n",
       "      <td>6138815706411501953</td>\n",
       "      <td>1</td>\n",
       "      <td>19.99</td>\n",
       "    </tr>\n",
       "    <tr>\n",
       "      <th>19</th>\n",
       "      <td>919214563541168</td>\n",
       "      <td>3563739037975684392</td>\n",
       "      <td>2024-08-10</td>\n",
       "      <td>6138815706411501953</td>\n",
       "      <td>2</td>\n",
       "      <td>21.99</td>\n",
       "    </tr>\n",
       "    <tr>\n",
       "      <th>20</th>\n",
       "      <td>919214563541168</td>\n",
       "      <td>5729742592468372175</td>\n",
       "      <td>2024-08-10</td>\n",
       "      <td>6138815706411501953</td>\n",
       "      <td>3</td>\n",
       "      <td>57.98</td>\n",
       "    </tr>\n",
       "    <tr>\n",
       "      <th>21</th>\n",
       "      <td>919214563541168</td>\n",
       "      <td>6062341130508430592</td>\n",
       "      <td>2024-08-10</td>\n",
       "      <td>6138815706411501953</td>\n",
       "      <td>2</td>\n",
       "      <td>40.99</td>\n",
       "    </tr>\n",
       "    <tr>\n",
       "      <th>22</th>\n",
       "      <td>949715198858686</td>\n",
       "      <td>925947725167355288</td>\n",
       "      <td>2023-10-09</td>\n",
       "      <td>1672441090591814031</td>\n",
       "      <td>2</td>\n",
       "      <td>25.99</td>\n",
       "    </tr>\n",
       "    <tr>\n",
       "      <th>23</th>\n",
       "      <td>949715198858686</td>\n",
       "      <td>5444065341161631686</td>\n",
       "      <td>2023-10-09</td>\n",
       "      <td>1672441090591814031</td>\n",
       "      <td>2</td>\n",
       "      <td>44.99</td>\n",
       "    </tr>\n",
       "    <tr>\n",
       "      <th>24</th>\n",
       "      <td>949715198858686</td>\n",
       "      <td>6908859136656758182</td>\n",
       "      <td>2023-10-09</td>\n",
       "      <td>1672441090591814031</td>\n",
       "      <td>3</td>\n",
       "      <td>159.98</td>\n",
       "    </tr>\n",
       "  </tbody>\n",
       "</table>\n",
       "</div>"
      ],
      "text/plain": [
       "           ClientID            ProductID SaleTransactionDate  \\\n",
       "0   487831788379074  2820126687947308401          2023-06-15   \n",
       "1   487831788379074  5814271529755388521          2023-06-15   \n",
       "2   487831788379074   596160146527302814          2023-11-15   \n",
       "3   487831788379074  3245181039283805384          2023-11-15   \n",
       "4   487831788379074   845645642533440388          2023-11-16   \n",
       "5   487831788379074  4772494314287191459          2023-11-16   \n",
       "6   624987180068091  4088240615781117851          2024-02-13   \n",
       "7   624987180068091  6836501382109623577          2024-02-13   \n",
       "8   633157752238300  7351594082589762847          2024-12-19   \n",
       "9   633157752238300  7824611703074545864          2024-12-19   \n",
       "10  919214563541168   220792175035204039          2024-02-20   \n",
       "11  919214563541168  5632040381632915950          2024-02-20   \n",
       "12  919214563541168  5634004511739423407          2024-08-08   \n",
       "13  919214563541168  8501557847365769096          2024-08-08   \n",
       "14  919214563541168  1247146807749338537          2024-08-09   \n",
       "15  919214563541168  1789143569441177651          2024-08-09   \n",
       "16  919214563541168  9136780913780124967          2024-08-09   \n",
       "17  919214563541168  9197960159823377749          2024-08-09   \n",
       "18  919214563541168  3399265694842049330          2024-08-10   \n",
       "19  919214563541168  3563739037975684392          2024-08-10   \n",
       "20  919214563541168  5729742592468372175          2024-08-10   \n",
       "21  919214563541168  6062341130508430592          2024-08-10   \n",
       "22  949715198858686   925947725167355288          2023-10-09   \n",
       "23  949715198858686  5444065341161631686          2023-10-09   \n",
       "24  949715198858686  6908859136656758182          2023-10-09   \n",
       "\n",
       "                StoreID  Quantity  SalesNetAmountEuro  \n",
       "0   5202366601222773915         2                9.99  \n",
       "1   5202366601222773915         2                8.99  \n",
       "2   5202366601222773915         1                3.99  \n",
       "3   5202366601222773915         2                4.99  \n",
       "4   5202366601222773915         3               15.98  \n",
       "5   5202366601222773915         4               14.97  \n",
       "6   3325697448103923280         1               16.99  \n",
       "7   3325697448103923280         2               20.99  \n",
       "8   7242889412692100661         2               25.99  \n",
       "9   7242889412692100661         1               76.99  \n",
       "10  6138815706411501953         4              236.97  \n",
       "11  6138815706411501953         2               61.99  \n",
       "12  6138815706411501953         1               86.99  \n",
       "13  6138815706411501953         3              103.98  \n",
       "14  6138815706411501953         1               28.99  \n",
       "15  6138815706411501953         2               28.99  \n",
       "16  6138815706411501953         1               39.99  \n",
       "17  6138815706411501953         1               21.99  \n",
       "18  6138815706411501953         1               19.99  \n",
       "19  6138815706411501953         2               21.99  \n",
       "20  6138815706411501953         3               57.98  \n",
       "21  6138815706411501953         2               40.99  \n",
       "22  1672441090591814031         2               25.99  \n",
       "23  1672441090591814031         2               44.99  \n",
       "24  1672441090591814031         3              159.98  "
      ]
     },
     "execution_count": 9,
     "metadata": {},
     "output_type": "execute_result"
    }
   ],
   "source": [
    "# Step 1: Count the number of unique products per ClientID per SaleTransactionDate\n",
    "grouped_df = transactions.groupby(['ClientID', 'SaleTransactionDate'])['ProductID'].nunique().reset_index()\n",
    "\n",
    "# Step 2: Filter to find cases where the same ClientID bought more than 1 ProductID on the same date\n",
    "multiple_products_df = grouped_df[grouped_df['ProductID'] > 1]\n",
    "\n",
    "# Step 3: Merge back with the original DataFrame to get full transaction details\n",
    "result_df = transactions.merge(multiple_products_df[['ClientID', 'SaleTransactionDate']], on=['ClientID', 'SaleTransactionDate'], how='inner')\n",
    "\n",
    "# Step 4: Sort by ClientID, SaleTransactionDate, and ProductID\n",
    "result_df = result_df.sort_values(by=['ClientID', 'SaleTransactionDate', 'ProductID']).reset_index(drop=True)\n",
    "\n",
    "# Display the result\n",
    "result_df.head(25)"
   ]
  },
  {
   "cell_type": "markdown",
   "metadata": {},
   "source": [
    "## Client Spending"
   ]
  },
  {
   "cell_type": "code",
   "execution_count": 10,
   "metadata": {},
   "outputs": [],
   "source": [
    "client_summary = transactions.groupby('ClientID').agg(\n",
    "    TransactionCount=('ClientID', 'size'),  # Counts number of transactions for each ClientID\n",
    "    TotalAmountSpent=('SalesNetAmountEuro', 'sum')      # Sums the 'Amount' column for each ClientID\n",
    ").reset_index()"
   ]
  },
  {
   "cell_type": "code",
   "execution_count": 11,
   "metadata": {},
   "outputs": [
    {
     "name": "stdout",
     "output_type": "stream",
     "text": [
      "                   ClientID  TransactionCount  TotalAmountSpent\n",
      "25827    784139077380372687             44460         557936.09\n",
      "164153  4948726587055327420               319         504978.77\n",
      "237327  7170141520984547731               971         339760.44\n",
      "37204   1132261303486551948                 9         152320.92\n",
      "115168  3468904384835684271                19         121431.77\n",
      "...                     ...               ...               ...\n",
      "137909  4157637604884968322                 1              0.01\n",
      "158744  4786769751695483403                 1              0.01\n",
      "238232  7198652230094984133                 1              0.01\n",
      "177656  5363729041647792279                 1              0.01\n",
      "83346   2513468324000536698                 1              0.01\n",
      "\n",
      "[304929 rows x 3 columns]\n"
     ]
    }
   ],
   "source": [
    "client_summary_sorted = client_summary.sort_values(by='TotalAmountSpent', ascending=False)\n",
    "print(client_summary_sorted)"
   ]
  },
  {
   "cell_type": "markdown",
   "metadata": {},
   "source": [
    "## Product Combinations // 2-3-4 combinations"
   ]
  },
  {
   "cell_type": "code",
   "execution_count": 96,
   "metadata": {},
   "outputs": [],
   "source": [
    "chunk_transactions = transactions[:5000]\n",
    "client_products = chunk_transactions.groupby('ClientID')['ProductID'].apply(list).reset_index()"
   ]
  },
  {
   "cell_type": "code",
   "execution_count": 97,
   "metadata": {},
   "outputs": [
    {
     "data": {
      "application/vnd.microsoft.datawrangler.viewer.v0+json": {
       "columns": [
        {
         "name": "index",
         "rawType": "int64",
         "type": "integer"
        },
        {
         "name": "ProductID",
         "rawType": "int64",
         "type": "integer"
        },
        {
         "name": "Category",
         "rawType": "object",
         "type": "string"
        },
        {
         "name": "FamilyLevel1",
         "rawType": "object",
         "type": "string"
        },
        {
         "name": "FamilyLevel2",
         "rawType": "object",
         "type": "string"
        },
        {
         "name": "Universe",
         "rawType": "object",
         "type": "string"
        }
       ],
       "conversionMethod": "pd.DataFrame",
       "ref": "c86e3473-67ab-416c-b838-e8e63782bd55",
       "rows": [
        [
         "0",
         "43220326960179274",
         "Football",
         "Ball",
         "Nike Ordem V",
         "Women"
        ],
        [
         "1",
         "622915065731236396",
         "Football",
         "Ball",
         "Nike Ordem V",
         "Men"
        ],
        [
         "2",
         "2020543468978812774",
         "Football",
         "Shorts",
         "Nike Dri-FIT",
         "Women"
        ],
        [
         "3",
         "600002891277549143",
         "Football",
         "Shorts",
         "Nike Dri-FIT",
         "Women"
        ],
        [
         "4",
         "6150916997899913693",
         "Football",
         "Shorts",
         "Nike Dri-FIT",
         "Men"
        ]
       ],
       "shape": {
        "columns": 5,
        "rows": 5
       }
      },
      "text/html": [
       "<div>\n",
       "<style scoped>\n",
       "    .dataframe tbody tr th:only-of-type {\n",
       "        vertical-align: middle;\n",
       "    }\n",
       "\n",
       "    .dataframe tbody tr th {\n",
       "        vertical-align: top;\n",
       "    }\n",
       "\n",
       "    .dataframe thead th {\n",
       "        text-align: right;\n",
       "    }\n",
       "</style>\n",
       "<table border=\"1\" class=\"dataframe\">\n",
       "  <thead>\n",
       "    <tr style=\"text-align: right;\">\n",
       "      <th></th>\n",
       "      <th>ProductID</th>\n",
       "      <th>Category</th>\n",
       "      <th>FamilyLevel1</th>\n",
       "      <th>FamilyLevel2</th>\n",
       "      <th>Universe</th>\n",
       "    </tr>\n",
       "  </thead>\n",
       "  <tbody>\n",
       "    <tr>\n",
       "      <th>0</th>\n",
       "      <td>43220326960179274</td>\n",
       "      <td>Football</td>\n",
       "      <td>Ball</td>\n",
       "      <td>Nike Ordem V</td>\n",
       "      <td>Women</td>\n",
       "    </tr>\n",
       "    <tr>\n",
       "      <th>1</th>\n",
       "      <td>622915065731236396</td>\n",
       "      <td>Football</td>\n",
       "      <td>Ball</td>\n",
       "      <td>Nike Ordem V</td>\n",
       "      <td>Men</td>\n",
       "    </tr>\n",
       "    <tr>\n",
       "      <th>2</th>\n",
       "      <td>2020543468978812774</td>\n",
       "      <td>Football</td>\n",
       "      <td>Shorts</td>\n",
       "      <td>Nike Dri-FIT</td>\n",
       "      <td>Women</td>\n",
       "    </tr>\n",
       "    <tr>\n",
       "      <th>3</th>\n",
       "      <td>600002891277549143</td>\n",
       "      <td>Football</td>\n",
       "      <td>Shorts</td>\n",
       "      <td>Nike Dri-FIT</td>\n",
       "      <td>Women</td>\n",
       "    </tr>\n",
       "    <tr>\n",
       "      <th>4</th>\n",
       "      <td>6150916997899913693</td>\n",
       "      <td>Football</td>\n",
       "      <td>Shorts</td>\n",
       "      <td>Nike Dri-FIT</td>\n",
       "      <td>Men</td>\n",
       "    </tr>\n",
       "  </tbody>\n",
       "</table>\n",
       "</div>"
      ],
      "text/plain": [
       "             ProductID  Category FamilyLevel1  FamilyLevel2 Universe\n",
       "0    43220326960179274  Football         Ball  Nike Ordem V    Women\n",
       "1   622915065731236396  Football         Ball  Nike Ordem V      Men\n",
       "2  2020543468978812774  Football       Shorts  Nike Dri-FIT    Women\n",
       "3   600002891277549143  Football       Shorts  Nike Dri-FIT    Women\n",
       "4  6150916997899913693  Football       Shorts  Nike Dri-FIT      Men"
      ]
     },
     "execution_count": 97,
     "metadata": {},
     "output_type": "execute_result"
    }
   ],
   "source": [
    "products.head()"
   ]
  },
  {
   "cell_type": "code",
   "execution_count": 102,
   "metadata": {},
   "outputs": [],
   "source": [
    "from itertools import combinations\n",
    "\n",
    "def combination_items(n=2, df=chunk_transactions, products_df=products):\n",
    "    product_combinations = []\n",
    "\n",
    "    # Create combinations for each client\n",
    "    for prod in df.groupby('ClientID')['ProductID'].apply(list):\n",
    "        if len(prod) >= n:\n",
    "            product_combinations.extend(combinations(sorted(prod), n))\n",
    "\n",
    "    # Step 3: Create a DataFrame with the product combinations\n",
    "    df_combinations = pd.DataFrame(product_combinations, columns=[f'ProductID_{i+1}' for i in range(n)])\n",
    "\n",
    "    # Step 4: Count occurrences of each combination\n",
    "    product_combination_counts = df_combinations.value_counts().reset_index(name='CombinationCount')\n",
    "\n",
    "    # Step 5: Merge with products DataFrame to get product names for each ProductID\n",
    "    for i in range(n):\n",
    "        product_combination_counts = product_combination_counts.merge(\n",
    "            products_df[['ProductID', 'Category']],\n",
    "            left_on=f'ProductID_{i+1}', right_on='ProductID', how='left'\n",
    "        ).rename(columns={'Category': f'ProductName_{i+1}'}).drop('ProductID', axis=1)\n",
    "\n",
    "    # Step 6: Sort by CombinationCount\n",
    "    sorted_product_combinations = product_combination_counts.sort_values(by='CombinationCount', ascending=False)\n",
    "\n",
    "    # Step 7: Create the combination tuple for FamilyLevel2 columns\n",
    "    sorted_product_combinations['Combination'] = list(zip(*[sorted_product_combinations[f'ProductID_{i+1}'] for i in range(n)]))\n",
    "\n",
    "    # Step 8: Filter out relevant columns for plotting (Combination and CombinationCount)\n",
    "    combination_counts = sorted_product_combinations[['Combination', 'CombinationCount']]\n",
    "\n",
    "    return combination_counts\n",
    "\n",
    "\n",
    "def plot_combinations(df):\n",
    "    # Create the plot with tuples of FamilyLevel2 as x-axis\n",
    "    plt.figure(figsize=(12, 6))\n",
    "    \n",
    "    # Create a barplot\n",
    "    sns.barplot(x='Combination', y='CombinationCount', data=df, palette='Blues_d')\n",
    "\n",
    "    # Rotate x-axis labels for better readability\n",
    "    plt.xticks(rotation=45, ha=\"right\")\n",
    "\n",
    "    # Set the plot labels and title\n",
    "    plt.xlabel('Product Combinations (FamilyLevel2_x, FamilyLevel2_y)')\n",
    "    plt.ylabel('Combination Count')\n",
    "    plt.title('Most Frequent Product Combinations')\n",
    "    plt.tight_layout()\n",
    "    \n",
    "    # Show the plot\n",
    "    plt.show()\n"
   ]
  },
  {
   "cell_type": "code",
   "execution_count": 103,
   "metadata": {},
   "outputs": [],
   "source": [
    "# Display the result\n",
    "# combination_2 = combination_items(2)\n",
    "combination_3 = combination_items(3)\n",
    "# combination_4 = combination_items(4)"
   ]
  },
  {
   "cell_type": "code",
   "execution_count": 111,
   "metadata": {},
   "outputs": [
    {
     "data": {
      "text/plain": [
       "7063050"
      ]
     },
     "execution_count": 111,
     "metadata": {},
     "output_type": "execute_result"
    }
   ],
   "source": [
    "transactions.size"
   ]
  },
  {
   "cell_type": "code",
   "execution_count": 18,
   "metadata": {},
   "outputs": [
    {
     "data": {
      "text/plain": [
       "Index(['ProductID', 'Category', 'FamilyLevel1', 'FamilyLevel2', 'Universe'], dtype='object')"
      ]
     },
     "execution_count": 18,
     "metadata": {},
     "output_type": "execute_result"
    }
   ],
   "source": [
    "products.columns"
   ]
  },
  {
   "cell_type": "code",
   "execution_count": 31,
   "metadata": {},
   "outputs": [
    {
     "name": "stdout",
     "output_type": "stream",
     "text": [
      "Bauer Nexus 2N Pro\n",
      "Wilson Pro Staff RF97\n"
     ]
    }
   ],
   "source": [
    "product1 = combination_2['Combination'][3000]\n",
    "for i in product1:\n",
    "    print(products[products['ProductID']==i]['FamilyLevel2'].values[0])"
   ]
  },
  {
   "cell_type": "code",
   "execution_count": null,
   "metadata": {},
   "outputs": [],
   "source": [
    "combination_4.head()"
   ]
  },
  {
   "cell_type": "code",
   "execution_count": 32,
   "metadata": {},
   "outputs": [
    {
     "data": {
      "image/png": "[encoded data removed]",
      "text/plain": [
       "<Figure size 864x432 with 1 Axes>"
      ]
     },
     "metadata": {
      "needs_background": "light"
     },
     "output_type": "display_data"
    }
   ],
   "source": [
    "# Reset index to make plotting easier\n",
    "plot_data = combination_2.head(30).reset_index()\n",
    "\n",
    "plt.figure(figsize=(12, 6))\n",
    "sns.barplot(x=plot_data.index, y=plot_data['CombinationCount'])\n",
    "plt.title('Top 30 Combinations')\n",
    "plt.xlabel('Index')\n",
    "plt.ylabel('Combination Count')\n",
    "plt.xticks(rotation=45, ha='right')\n",
    "plt.tight_layout()\n",
    "plt.show()"
   ]
  },
  {
   "cell_type": "markdown",
   "metadata": {},
   "source": [
    "## Recommender 1 - SVD // Not Accurate"
   ]
  },
  {
   "cell_type": "code",
   "execution_count": 56,
   "metadata": {},
   "outputs": [
    {
     "data": {
      "application/vnd.microsoft.datawrangler.viewer.v0+json": {
       "columns": [
        {
         "name": "index",
         "rawType": "int64",
         "type": "integer"
        },
        {
         "name": "ClientID",
         "rawType": "int64",
         "type": "integer"
        },
        {
         "name": "ProductID",
         "rawType": "int64",
         "type": "integer"
        },
        {
         "name": "SaleTransactionDate",
         "rawType": "datetime64[ns]",
         "type": "datetime"
        },
        {
         "name": "StoreID",
         "rawType": "int64",
         "type": "integer"
        },
        {
         "name": "Quantity",
         "rawType": "int64",
         "type": "integer"
        },
        {
         "name": "SalesNetAmountEuro",
         "rawType": "float64",
         "type": "float"
        }
       ],
       "conversionMethod": "pd.DataFrame",
       "ref": "3aa50b06-4b71-4fb1-8cb3-aad2c1fd7108",
       "rows": [
        [
         "0",
         "8119209481417068505",
         "3532473209579560668",
         "2023-06-06 00:00:00",
         "4821951108133690356",
         "4",
         "56.97"
        ],
        [
         "1",
         "2497726585282787281",
         "5103640511191568912",
         "2023-09-20 00:00:00",
         "1450109522794525790",
         "1",
         "5.99"
        ],
        [
         "2",
         "7673687066317773168",
         "4923931302917549451",
         "2023-12-16 00:00:00",
         "1821464542701843363",
         "2",
         "16.99"
        ],
        [
         "3",
         "1873234305263900608",
         "8502620308847538595",
         "2023-01-31 00:00:00",
         "2686511472610728845",
         "4",
         "140.97"
        ],
        [
         "4",
         "3913817537779196185",
         "8573693021421318503",
         "2024-01-23 00:00:00",
         "3600233866627167751",
         "1",
         "10.99"
        ],
        [
         "5",
         "7494961058370710343",
         "3105228928624179",
         "2025-01-24 00:00:00",
         "5973162337933203520",
         "2",
         "121.99"
        ],
        [
         "6",
         "7722688189370357811",
         "4656982896803154936",
         "2024-10-27 00:00:00",
         "7072849857188684803",
         "1",
         "10.99"
        ],
        [
         "7",
         "3666214883058916730",
         "3591507476025006955",
         "2023-08-09 00:00:00",
         "3306498059038628287",
         "1",
         "25.99"
        ],
        [
         "8",
         "7518798904643084412",
         "6811943615573632999",
         "2024-10-20 00:00:00",
         "3306498059038628287",
         "2",
         "27.99"
        ],
        [
         "9",
         "1214152543569856835",
         "3858486052541045999",
         "2023-05-31 00:00:00",
         "6488528513823166286",
         "4",
         "53.97"
        ],
        [
         "10",
         "5329582650432043183",
         "1369753020570306782",
         "2024-12-06 00:00:00",
         "3306498059038628287",
         "2",
         "7.99"
        ],
        [
         "11",
         "5742121325076821671",
         "2061358648378984723",
         "2024-02-26 00:00:00",
         "3659728357394804264",
         "2",
         "17.99"
        ],
        [
         "12",
         "4546572963655360826",
         "2241128212929294900",
         "2024-05-24 00:00:00",
         "9013180098324016831",
         "2",
         "21.99"
        ],
        [
         "13",
         "691418983321780055",
         "2585742331747056655",
         "2023-06-14 00:00:00",
         "5202366601222773915",
         "2",
         "7.99"
        ],
        [
         "14",
         "3717922566196649443",
         "4637348725244357520",
         "2024-06-15 00:00:00",
         "5202366601222773915",
         "1",
         "11.99"
        ],
        [
         "15",
         "3183538914940113691",
         "4264340979150525540",
         "2024-07-20 00:00:00",
         "9099531021898466037",
         "4",
         "50.97"
        ],
        [
         "16",
         "556438558459197606",
         "4169216074902899213",
         "2023-08-24 00:00:00",
         "7704230050291051317",
         "2",
         "28.99"
        ],
        [
         "17",
         "533097165722656159",
         "3501350187753390011",
         "2024-01-16 00:00:00",
         "7123235743384991602",
         "1",
         "21.99"
        ],
        [
         "18",
         "970324337306047537",
         "8984524553119131282",
         "2023-04-21 00:00:00",
         "1462011113949538177",
         "1",
         "5.99"
        ],
        [
         "19",
         "1773883503310016824",
         "8896524202044167121",
         "2023-05-31 00:00:00",
         "5060113386821017236",
         "2",
         "11.99"
        ],
        [
         "20",
         "4516550870786564525",
         "6488384657788009650",
         "2024-06-04 00:00:00",
         "3325697448103923280",
         "1",
         "5.99"
        ],
        [
         "21",
         "4813331740516907371",
         "4938729464386706434",
         "2024-01-15 00:00:00",
         "1450109522794525790",
         "1",
         "67.99000000000001"
        ],
        [
         "22",
         "1931432944567862392",
         "7451222636943972674",
         "2023-12-20 00:00:00",
         "4872228660997065413",
         "1",
         "18.99"
        ],
        [
         "23",
         "1513993086884164301",
         "4978781552851483666",
         "2023-07-22 00:00:00",
         "6592779581114225706",
         "3",
         "37.98"
        ],
        [
         "24",
         "7740882767250635477",
         "36002897461857168",
         "2024-11-09 00:00:00",
         "85129655194753350",
         "5",
         "99.96"
        ],
        [
         "25",
         "6294513944605161236",
         "6811943615573632999",
         "2024-10-05 00:00:00",
         "6717376593634704323",
         "3",
         "47.98"
        ],
        [
         "26",
         "3585864560031037750",
         "858226469205562508",
         "2023-08-27 00:00:00",
         "1152957680831516130",
         "2",
         "16.99"
        ],
        [
         "27",
         "7129756241237485326",
         "8339871974285434717",
         "2023-08-23 00:00:00",
         "1400981627645342391",
         "3",
         "153.98"
        ],
        [
         "28",
         "6638889126466504460",
         "2832287988150530556",
         "2024-12-24 00:00:00",
         "3306498059038628287",
         "4",
         "47.97"
        ],
        [
         "29",
         "7319501031023191655",
         "2865121895822531388",
         "2024-12-05 00:00:00",
         "1672441090591814031",
         "3",
         "63.98"
        ],
        [
         "30",
         "1517423168621771560",
         "5176105866087425628",
         "2024-10-06 00:00:00",
         "2172025681565162298",
         "3",
         "21.98"
        ],
        [
         "31",
         "7749011333824568095",
         "4904897224532951442",
         "2024-02-23 00:00:00",
         "109432572086092883",
         "2",
         "13.99"
        ],
        [
         "32",
         "8429964515940286050",
         "7824611703074545864",
         "2024-12-15 00:00:00",
         "1222654097625773794",
         "5",
         "319.96"
        ],
        [
         "33",
         "7727744714699613267",
         "2241128212929294900",
         "2024-04-28 00:00:00",
         "7822979941365014922",
         "1",
         "24.99"
        ],
        [
         "34",
         "6634045771671157488",
         "611724573353060770",
         "2024-12-12 00:00:00",
         "3306498059038628287",
         "1",
         "19.99"
        ],
        [
         "35",
         "5777547004692557219",
         "8033353531710855650",
         "2024-10-20 00:00:00",
         "7822979941365014922",
         "2",
         "10.99"
        ],
        [
         "36",
         "8760561408863082390",
         "2525303008779054329",
         "2024-07-19 00:00:00",
         "7200865266492665812",
         "3",
         "47.98"
        ],
        [
         "37",
         "3352350081174649233",
         "1847692338933218564",
         "2024-05-05 00:00:00",
         "4780678471456335596",
         "2",
         "20.99"
        ],
        [
         "38",
         "3432570392274923360",
         "1807418090523306919",
         "2024-10-27 00:00:00",
         "3306498059038628287",
         "3",
         "47.98"
        ],
        [
         "39",
         "5383318505298816872",
         "6950791433499860194",
         "2024-05-17 00:00:00",
         "2472747690441112792",
         "1",
         "5.99"
        ],
        [
         "40",
         "7908985326513011166",
         "6860993275576814774",
         "2024-05-20 00:00:00",
         "3306498059038628287",
         "2",
         "8.99"
        ],
        [
         "41",
         "170383833667683715",
         "3258289684021159545",
         "2024-09-21 00:00:00",
         "4872228660997065413",
         "2",
         "32.99"
        ],
        [
         "42",
         "8037420442699183109",
         "5789848274858642922",
         "2024-07-25 00:00:00",
         "7570474778729642561",
         "3",
         "7.99"
        ],
        [
         "43",
         "794152365890519377",
         "7114139693643578171",
         "2024-11-23 00:00:00",
         "5202366601222773915",
         "2",
         "2.99"
        ],
        [
         "44",
         "6746840875349163022",
         "6138654803987982940",
         "2024-07-22 00:00:00",
         "1222654097625773794",
         "2",
         "13.99"
        ],
        [
         "45",
         "7471042349256245652",
         "5981584745152981148",
         "2023-03-13 00:00:00",
         "1830528581717228341",
         "1",
         "4.0"
        ],
        [
         "46",
         "6564901349736482382",
         "638216405614134546",
         "2024-12-28 00:00:00",
         "3306498059038628287",
         "2",
         "14.99"
        ],
        [
         "47",
         "510910593067829376",
         "5542509443544590358",
         "2024-04-11 00:00:00",
         "8462628138647008757",
         "4",
         "65.97"
        ],
        [
         "48",
         "3152391219696217871",
         "1518309762619768287",
         "2023-02-07 00:00:00",
         "1450109522794525790",
         "1",
         "17.990000000000002"
        ],
        [
         "49",
         "3161107195174307729",
         "4977027123522759904",
         "2024-06-04 00:00:00",
         "109432572086092883",
         "2",
         "23.99"
        ]
       ],
       "shape": {
        "columns": 6,
        "rows": 1177175
       }
      },
      "text/html": [
       "<div>\n",
       "<style scoped>\n",
       "    .dataframe tbody tr th:only-of-type {\n",
       "        vertical-align: middle;\n",
       "    }\n",
       "\n",
       "    .dataframe tbody tr th {\n",
       "        vertical-align: top;\n",
       "    }\n",
       "\n",
       "    .dataframe thead th {\n",
       "        text-align: right;\n",
       "    }\n",
       "</style>\n",
       "<table border=\"1\" class=\"dataframe\">\n",
       "  <thead>\n",
       "    <tr style=\"text-align: right;\">\n",
       "      <th></th>\n",
       "      <th>ClientID</th>\n",
       "      <th>ProductID</th>\n",
       "      <th>SaleTransactionDate</th>\n",
       "      <th>StoreID</th>\n",
       "      <th>Quantity</th>\n",
       "      <th>SalesNetAmountEuro</th>\n",
       "    </tr>\n",
       "  </thead>\n",
       "  <tbody>\n",
       "    <tr>\n",
       "      <th>0</th>\n",
       "      <td>8119209481417068505</td>\n",
       "      <td>3532473209579560668</td>\n",
       "      <td>2023-06-06</td>\n",
       "      <td>4821951108133690356</td>\n",
       "      <td>4</td>\n",
       "      <td>56.97</td>\n",
       "    </tr>\n",
       "    <tr>\n",
       "      <th>1</th>\n",
       "      <td>2497726585282787281</td>\n",
       "      <td>5103640511191568912</td>\n",
       "      <td>2023-09-20</td>\n",
       "      <td>1450109522794525790</td>\n",
       "      <td>1</td>\n",
       "      <td>5.99</td>\n",
       "    </tr>\n",
       "    <tr>\n",
       "      <th>2</th>\n",
       "      <td>7673687066317773168</td>\n",
       "      <td>4923931302917549451</td>\n",
       "      <td>2023-12-16</td>\n",
       "      <td>1821464542701843363</td>\n",
       "      <td>2</td>\n",
       "      <td>16.99</td>\n",
       "    </tr>\n",
       "    <tr>\n",
       "      <th>3</th>\n",
       "      <td>1873234305263900608</td>\n",
       "      <td>8502620308847538595</td>\n",
       "      <td>2023-01-31</td>\n",
       "      <td>2686511472610728845</td>\n",
       "      <td>4</td>\n",
       "      <td>140.97</td>\n",
       "    </tr>\n",
       "    <tr>\n",
       "      <th>4</th>\n",
       "      <td>3913817537779196185</td>\n",
       "      <td>8573693021421318503</td>\n",
       "      <td>2024-01-23</td>\n",
       "      <td>3600233866627167751</td>\n",
       "      <td>1</td>\n",
       "      <td>10.99</td>\n",
       "    </tr>\n",
       "    <tr>\n",
       "      <th>...</th>\n",
       "      <td>...</td>\n",
       "      <td>...</td>\n",
       "      <td>...</td>\n",
       "      <td>...</td>\n",
       "      <td>...</td>\n",
       "      <td>...</td>\n",
       "    </tr>\n",
       "    <tr>\n",
       "      <th>1177170</th>\n",
       "      <td>2432651529788024626</td>\n",
       "      <td>8869820367595237769</td>\n",
       "      <td>2023-05-05</td>\n",
       "      <td>3306498059038628287</td>\n",
       "      <td>2</td>\n",
       "      <td>16.99</td>\n",
       "    </tr>\n",
       "    <tr>\n",
       "      <th>1177171</th>\n",
       "      <td>1691937543970001915</td>\n",
       "      <td>7039116905723644150</td>\n",
       "      <td>2023-11-12</td>\n",
       "      <td>3306498059038628287</td>\n",
       "      <td>1</td>\n",
       "      <td>5.99</td>\n",
       "    </tr>\n",
       "    <tr>\n",
       "      <th>1177172</th>\n",
       "      <td>1003100987571803008</td>\n",
       "      <td>242506609152720728</td>\n",
       "      <td>2024-09-25</td>\n",
       "      <td>9099531021898466037</td>\n",
       "      <td>1</td>\n",
       "      <td>29.99</td>\n",
       "    </tr>\n",
       "    <tr>\n",
       "      <th>1177173</th>\n",
       "      <td>5201324372064592752</td>\n",
       "      <td>412909163137289630</td>\n",
       "      <td>2025-01-22</td>\n",
       "      <td>7913334853958149044</td>\n",
       "      <td>2</td>\n",
       "      <td>29.99</td>\n",
       "    </tr>\n",
       "    <tr>\n",
       "      <th>1177174</th>\n",
       "      <td>2660995687537176804</td>\n",
       "      <td>219531566035948655</td>\n",
       "      <td>2024-11-30</td>\n",
       "      <td>7072849857188684803</td>\n",
       "      <td>1</td>\n",
       "      <td>5.99</td>\n",
       "    </tr>\n",
       "  </tbody>\n",
       "</table>\n",
       "<p>1177175 rows × 6 columns</p>\n",
       "</div>"
      ],
      "text/plain": [
       "                    ClientID            ProductID SaleTransactionDate  \\\n",
       "0        8119209481417068505  3532473209579560668          2023-06-06   \n",
       "1        2497726585282787281  5103640511191568912          2023-09-20   \n",
       "2        7673687066317773168  4923931302917549451          2023-12-16   \n",
       "3        1873234305263900608  8502620308847538595          2023-01-31   \n",
       "4        3913817537779196185  8573693021421318503          2024-01-23   \n",
       "...                      ...                  ...                 ...   \n",
       "1177170  2432651529788024626  8869820367595237769          2023-05-05   \n",
       "1177171  1691937543970001915  7039116905723644150          2023-11-12   \n",
       "1177172  1003100987571803008   242506609152720728          2024-09-25   \n",
       "1177173  5201324372064592752   412909163137289630          2025-01-22   \n",
       "1177174  2660995687537176804   219531566035948655          2024-11-30   \n",
       "\n",
       "                     StoreID  Quantity  SalesNetAmountEuro  \n",
       "0        4821951108133690356         4               56.97  \n",
       "1        1450109522794525790         1                5.99  \n",
       "2        1821464542701843363         2               16.99  \n",
       "3        2686511472610728845         4              140.97  \n",
       "4        3600233866627167751         1               10.99  \n",
       "...                      ...       ...                 ...  \n",
       "1177170  3306498059038628287         2               16.99  \n",
       "1177171  3306498059038628287         1                5.99  \n",
       "1177172  9099531021898466037         1               29.99  \n",
       "1177173  7913334853958149044         2               29.99  \n",
       "1177174  7072849857188684803         1                5.99  \n",
       "\n",
       "[1177175 rows x 6 columns]"
      ]
     },
     "execution_count": 56,
     "metadata": {},
     "output_type": "execute_result"
    }
   ],
   "source": [
    "transactions"
   ]
  },
  {
   "cell_type": "code",
   "execution_count": 57,
   "metadata": {},
   "outputs": [],
   "source": [
    "# Load data into Surprise's format\n",
    "reader = Reader(rating_scale=(1, transactions['SalesNetAmountEuro'].max()))\n",
    "data = Dataset.load_from_df(transactions[['ClientID', 'ProductID', 'SalesNetAmountEuro']], reader)\n",
    "\n",
    "# Split data into train and test sets\n",
    "trainset, testset = train_test_split(data, test_size=0.2)\n",
    "\n",
    "# Train the SVD model\n",
    "model = SVD()\n",
    "model.fit(trainset)\n",
    "\n",
    "# Function to suggest products for a specific ClientID\n",
    "def suggest_products(client_id, model, transactions, top_n=5):\n",
    "    # Get all unique products in the dataset\n",
    "    all_products = transactions['ProductID'].unique()\n",
    "    \n",
    "    # Get the products that the client has already purchased\n",
    "    purchased_products = transactions[transactions['ClientID'] == client_id]['ProductID'].values\n",
    "    \n",
    "    # Filter out products the client has already purchased\n",
    "    products_to_predict = [p for p in all_products if p not in purchased_products]\n",
    "    \n",
    "    # Predict ratings for all the products that the client has not yet purchased\n",
    "    predictions = [model.predict(client_id, product) for product in products_to_predict]\n",
    "    \n",
    "    # Sort predictions by estimated rating (preference score) in descending order\n",
    "    predictions.sort(key=lambda x: x.est, reverse=True)\n",
    "    \n",
    "    # Get the top N products\n",
    "    top_predictions = predictions[:top_n]\n",
    "    \n",
    "    # Get the product IDs of the recommended products\n",
    "    recommended_product_ids = [pred.iid for pred in top_predictions]\n",
    "    \n",
    "    return recommended_product_ids\n"
   ]
  },
  {
   "cell_type": "code",
   "execution_count": 58,
   "metadata": {},
   "outputs": [
    {
     "data": {
      "application/vnd.microsoft.datawrangler.viewer.v0+json": {
       "columns": [
        {
         "name": "index",
         "rawType": "int64",
         "type": "integer"
        },
        {
         "name": "ClientID",
         "rawType": "int64",
         "type": "integer"
        },
        {
         "name": "ClientSegment",
         "rawType": "object",
         "type": "string"
        },
        {
         "name": "ClientCountry",
         "rawType": "object",
         "type": "string"
        },
        {
         "name": "ClientOptINEmail",
         "rawType": "int64",
         "type": "integer"
        },
        {
         "name": "ClientOptINPhone",
         "rawType": "int64",
         "type": "integer"
        },
        {
         "name": "ClientGender",
         "rawType": "object",
         "type": "string"
        },
        {
         "name": "Age",
         "rawType": "float64",
         "type": "float"
        }
       ],
       "conversionMethod": "pd.DataFrame",
       "ref": "afe39d63-aa50-4dfd-bbc6-267d6a53b913",
       "rows": [
        [
         "0",
         "4508698145640552159",
         "LOYAL",
         "USA",
         "1",
         "1",
         "M",
         null
        ],
        [
         "1",
         "2022746661324934183",
         "INACTIVE_1Y",
         "USA",
         "0",
         "1",
         "F",
         null
        ],
        [
         "2",
         "5794452591674300222",
         "LOYAL",
         "USA",
         "1",
         "1",
         "F",
         null
        ],
        [
         "3",
         "678556389231830160",
         "LOYAL",
         "USA",
         "1",
         "1",
         "M",
         null
        ],
        [
         "4",
         "877301557964624234",
         "LOYAL",
         "USA",
         "1",
         "1",
         "F",
         null
        ]
       ],
       "shape": {
        "columns": 7,
        "rows": 5
       }
      },
      "text/html": [
       "<div>\n",
       "<style scoped>\n",
       "    .dataframe tbody tr th:only-of-type {\n",
       "        vertical-align: middle;\n",
       "    }\n",
       "\n",
       "    .dataframe tbody tr th {\n",
       "        vertical-align: top;\n",
       "    }\n",
       "\n",
       "    .dataframe thead th {\n",
       "        text-align: right;\n",
       "    }\n",
       "</style>\n",
       "<table border=\"1\" class=\"dataframe\">\n",
       "  <thead>\n",
       "    <tr style=\"text-align: right;\">\n",
       "      <th></th>\n",
       "      <th>ClientID</th>\n",
       "      <th>ClientSegment</th>\n",
       "      <th>ClientCountry</th>\n",
       "      <th>ClientOptINEmail</th>\n",
       "      <th>ClientOptINPhone</th>\n",
       "      <th>ClientGender</th>\n",
       "      <th>Age</th>\n",
       "    </tr>\n",
       "  </thead>\n",
       "  <tbody>\n",
       "    <tr>\n",
       "      <th>0</th>\n",
       "      <td>4508698145640552159</td>\n",
       "      <td>LOYAL</td>\n",
       "      <td>USA</td>\n",
       "      <td>1</td>\n",
       "      <td>1</td>\n",
       "      <td>M</td>\n",
       "      <td>NaN</td>\n",
       "    </tr>\n",
       "    <tr>\n",
       "      <th>1</th>\n",
       "      <td>2022746661324934183</td>\n",
       "      <td>INACTIVE_1Y</td>\n",
       "      <td>USA</td>\n",
       "      <td>0</td>\n",
       "      <td>1</td>\n",
       "      <td>F</td>\n",
       "      <td>NaN</td>\n",
       "    </tr>\n",
       "    <tr>\n",
       "      <th>2</th>\n",
       "      <td>5794452591674300222</td>\n",
       "      <td>LOYAL</td>\n",
       "      <td>USA</td>\n",
       "      <td>1</td>\n",
       "      <td>1</td>\n",
       "      <td>F</td>\n",
       "      <td>NaN</td>\n",
       "    </tr>\n",
       "    <tr>\n",
       "      <th>3</th>\n",
       "      <td>678556389231830160</td>\n",
       "      <td>LOYAL</td>\n",
       "      <td>USA</td>\n",
       "      <td>1</td>\n",
       "      <td>1</td>\n",
       "      <td>M</td>\n",
       "      <td>NaN</td>\n",
       "    </tr>\n",
       "    <tr>\n",
       "      <th>4</th>\n",
       "      <td>877301557964624234</td>\n",
       "      <td>LOYAL</td>\n",
       "      <td>USA</td>\n",
       "      <td>1</td>\n",
       "      <td>1</td>\n",
       "      <td>F</td>\n",
       "      <td>NaN</td>\n",
       "    </tr>\n",
       "  </tbody>\n",
       "</table>\n",
       "</div>"
      ],
      "text/plain": [
       "              ClientID ClientSegment ClientCountry  ClientOptINEmail  \\\n",
       "0  4508698145640552159         LOYAL           USA                 1   \n",
       "1  2022746661324934183   INACTIVE_1Y           USA                 0   \n",
       "2  5794452591674300222         LOYAL           USA                 1   \n",
       "3   678556389231830160         LOYAL           USA                 1   \n",
       "4   877301557964624234         LOYAL           USA                 1   \n",
       "\n",
       "   ClientOptINPhone ClientGender  Age  \n",
       "0                 1            M  NaN  \n",
       "1                 1            F  NaN  \n",
       "2                 1            F  NaN  \n",
       "3                 1            M  NaN  \n",
       "4                 1            F  NaN  "
      ]
     },
     "execution_count": 58,
     "metadata": {},
     "output_type": "execute_result"
    }
   ],
   "source": [
    "clients.head()"
   ]
  },
  {
   "cell_type": "code",
   "execution_count": 108,
   "metadata": {},
   "outputs": [],
   "source": [
    "def fetch_product(product_IDs):\n",
    "    if isinstance(product_IDs, (list, tuple)):\n",
    "        return [fetch_single_product(pid) for pid in product_IDs]\n",
    "    else:\n",
    "        return fetch_single_product(product_IDs)\n",
    "\n",
    "def fetch_single_product(product_ID):\n",
    "    # Filter the DataFrame for the given ProductID\n",
    "    product_info = products[products['ProductID'] == product_ID]\n",
    "\n",
    "    # Check if the ProductID exists in the DataFrame\n",
    "    if product_info.empty:\n",
    "        return (\"ProductID not found\",)\n",
    "\n",
    "    # Extract the relevant information\n",
    "    category = product_info['Category'].values[0]\n",
    "    family_level1 = product_info['FamilyLevel1'].values[0]\n",
    "    family_level2 = product_info['FamilyLevel2'].values[0]\n",
    "\n",
    "    # Return the information as a tuple\n",
    "    return (category, family_level1, family_level2)\n"
   ]
  },
  {
   "cell_type": "code",
   "execution_count": 60,
   "metadata": {},
   "outputs": [
    {
     "name": "stdout",
     "output_type": "stream",
     "text": [
      "Beach Swimsuit Speedo Fastskin LZR Racer X\n",
      "Baseball Bat Rawlings Quatro Pro\n",
      "Cycling Bike Specialized S-Works Roubaix\n",
      "Football Shoes Adidas Predator\n",
      "Handball Shoes Asics Gel-Blast\n"
     ]
    }
   ],
   "source": [
    "# Example: Get product suggestions for ClientID = 1\n",
    "client_id = 8119209481417068505\n",
    "recommended_products = suggest_products(client_id, model, transactions, top_n=5)\n",
    "rec_prod=[]\n",
    "\n",
    "for i in recommended_products:\n",
    "    print(products[products['ProductID']==i]['Category'].values[0], end=' ')\n",
    "    print(products[products['ProductID']==i]['FamilyLevel1'].values[0], end=' ')\n",
    "    print(products[products['ProductID']==i]['FamilyLevel2'].values[0])\n"
   ]
  },
  {
   "cell_type": "markdown",
   "metadata": {},
   "source": [
    "## Recommender 2 - Confidence and Lift // TODO"
   ]
  },
  {
   "cell_type": "code",
   "execution_count": null,
   "metadata": {},
   "outputs": [
    {
     "data": {
      "text/plain": [
       "Index(['ClientID', 'ProductID', 'SaleTransactionDate', 'StoreID', 'Quantity',\n",
       "       'SalesNetAmountEuro'],\n",
       "      dtype='object')"
      ]
     },
     "execution_count": 42,
     "metadata": {},
     "output_type": "execute_result"
    }
   ],
   "source": [
    "transactions.columns"
   ]
  },
  {
   "cell_type": "code",
   "execution_count": null,
   "metadata": {},
   "outputs": [
    {
     "name": "stdout",
     "output_type": "stream",
     "text": [
      "Creating recommender...\n",
      "Checking for invalid transactions...\n",
      "Number of invalid transactions (Quantity <= 0): 0\n",
      "Creating sparse basket matrix...\n",
      "Shape of the sparse basket matrix: (304929, 29730)\n",
      "Number of non-zero entries: 976274\n",
      "Converting sparse matrix to dense format for apriori...\n",
      "Shape of the dense basket matrix: (304929, 29730)\n",
      "Preview of dense basket matrix:\n",
      "    72931364288678       513428984548409      793119236319256      \\\n",
      "0                False                False                False   \n",
      "1                False                False                False   \n",
      "2                False                False                False   \n",
      "3                False                False                False   \n",
      "4                False                False                False   \n",
      "\n",
      "   1131439573284587     1406428649545374     2045483876403351     \\\n",
      "0                False                False                False   \n",
      "1                False                False                False   \n",
      "2                False                False                False   \n",
      "3                False                False                False   \n",
      "4                False                False                False   \n",
      "\n",
      "   2130283461647011     2765609736887881     2987030784716053     \\\n",
      "0                False                False                False   \n",
      "1                False                False                False   \n",
      "2                False                False                False   \n",
      "3                False                False                False   \n",
      "4                False                False                False   \n",
      "\n",
      "   3020365182406491     ...  9219894773939254795  9220217428281186156  \\\n",
      "0                False  ...                False                False   \n",
      "1                False  ...                False                False   \n",
      "2                False  ...                False                False   \n",
      "3                False  ...                False                False   \n",
      "4                False  ...                False                False   \n",
      "\n",
      "   9220377534981633105  9221040994794062495  9221673173246271937  \\\n",
      "0                False                False                False   \n",
      "1                False                False                False   \n",
      "2                False                False                False   \n",
      "3                False                False                False   \n",
      "4                False                False                False   \n",
      "\n",
      "   9221688338889018798  9222093978649000870  9222719865396525765  \\\n",
      "0                False                False                False   \n",
      "1                False                False                False   \n",
      "2                False                False                False   \n",
      "3                False                False                False   \n",
      "4                False                False                False   \n",
      "\n",
      "   9222852020880136103  9223244269959704092  \n",
      "0                False                False  \n",
      "1                False                False  \n",
      "2                False                False  \n",
      "3                False                False  \n",
      "4                False                False  \n",
      "\n",
      "[5 rows x 29730 columns]\n",
      "Generating frequent itemsets using apriori...\n",
      "Number of frequent itemsets: 36\n",
      "Generating association rules...\n",
      "Number of association rules: 0\n",
      "Top recommendations: Empty DataFrame\n",
      "Columns: []\n",
      "Index: []\n"
     ]
    }
   ],
   "source": [
    "import pandas as pd\n",
    "import numpy as np\n",
    "from mlxtend.frequent_patterns import apriori, association_rules\n",
    "from scipy.sparse import csr_matrix\n",
    "import gc\n",
    "\n",
    "def create_sparse_basket_matrix(df, batch_size=100000):\n",
    "    \"\"\"\n",
    "    Creates a sparse basket matrix using batched processing to handle large datasets.\n",
    "\n",
    "    Parameters:\n",
    "    df (pandas.DataFrame): DataFrame with transaction data\n",
    "    batch_size (int): Number of transactions to process in each batch\n",
    "\n",
    "    Returns:\n",
    "    sparse matrix: Sparse representation of basket data\n",
    "    list: Product IDs\n",
    "    list: Client IDs\n",
    "    \"\"\"\n",
    "    # Get unique IDs\n",
    "    unique_products = sorted(df['ProductID'].unique())\n",
    "    unique_clients = sorted(df['ClientID'].unique())\n",
    "\n",
    "    # Create ID mappings\n",
    "    product_to_idx = {pid: idx for idx, pid in enumerate(unique_products)}\n",
    "    client_to_idx = {cid: idx for idx, cid in enumerate(unique_clients)}\n",
    "\n",
    "    # Initialize lists for sparse matrix construction\n",
    "    rows = []\n",
    "    cols = []\n",
    "    data = []\n",
    "\n",
    "    # Process in batches\n",
    "    for start_idx in range(0, len(df), batch_size):\n",
    "        batch = df.iloc[start_idx:start_idx + batch_size]\n",
    "\n",
    "        # Create sparse matrix entries for this batch\n",
    "        batch_rows = [client_to_idx[cid] for cid in batch['ClientID']]\n",
    "        batch_cols = [product_to_idx[pid] for pid in batch['ProductID']]\n",
    "        batch_data = [1] * len(batch_rows)  # Or use batch['Quantity'] if needed\n",
    "\n",
    "        rows.extend(batch_rows)\n",
    "        cols.extend(batch_cols)\n",
    "        data.extend(batch_data)\n",
    "\n",
    "        # Force garbage collection\n",
    "        gc.collect()\n",
    "\n",
    "    # Create sparse matrix\n",
    "    basket_matrix = csr_matrix((data, (rows, cols)),\n",
    "                               shape=(len(unique_clients), len(unique_products)))\n",
    "\n",
    "    return basket_matrix, unique_products, unique_clients\n",
    "\n",
    "def create_product_recommender(df, min_support=0.005, min_confidence=0.2, batch_size=100000):\n",
    "    \"\"\"\n",
    "    Creates a product recommender system using association rules with memory-efficient processing.\n",
    "\n",
    "    Parameters:\n",
    "    df (pandas.DataFrame): DataFrame with columns ['ClientID', 'ProductID', 'SaleTransactionDate', \n",
    "                          'StoreID', 'Quantity', 'SalesNetAmountEuro']\n",
    "    min_support (float): Minimum support threshold for apriori algorithm\n",
    "    min_confidence (float): Minimum confidence threshold for rules\n",
    "    batch_size (int): Number of transactions to process in each batch\n",
    "\n",
    "    Returns:\n",
    "    tuple: (frequent_itemsets, rules, product_list)\n",
    "    \"\"\"\n",
    "    # Convert date column to datetime if it's not already\n",
    "    if not pd.api.types.is_datetime64_any_dtype(df['SaleTransactionDate']):\n",
    "        df['SaleTransactionDate'] = pd.to_datetime(df['SaleTransactionDate'])\n",
    "\n",
    "    # Check if the dataset has valid transactions\n",
    "    print(\"Checking for invalid transactions...\")\n",
    "    invalid_transactions = df[df['Quantity'] <= 0]\n",
    "    print(f\"Number of invalid transactions (Quantity <= 0): {invalid_transactions.shape[0]}\")\n",
    "\n",
    "    # Create sparse basket matrix\n",
    "    print(\"Creating sparse basket matrix...\")\n",
    "    basket_matrix, products, clients = create_sparse_basket_matrix(df, batch_size)\n",
    "\n",
    "    # Check if the matrix has non-zero entries\n",
    "    print(f\"Shape of the sparse basket matrix: {basket_matrix.shape}\")\n",
    "    print(f\"Number of non-zero entries: {basket_matrix.nnz}\")\n",
    "    \n",
    "    if basket_matrix.nnz == 0:\n",
    "        raise ValueError(\"Basket matrix has no non-zero entries, check the dataset.\")\n",
    "\n",
    "    # Convert sparse matrix to dense format for mlxtend\n",
    "    print(\"Converting sparse matrix to dense format for apriori...\")\n",
    "    basket_dense = pd.DataFrame(basket_matrix.toarray() > 0, columns=products)\n",
    "\n",
    "    # Check if dense matrix is non-empty\n",
    "    print(f\"Shape of the dense basket matrix: {basket_dense.shape}\")\n",
    "    print(\"Preview of dense basket matrix:\\n\", basket_dense.head())\n",
    "\n",
    "    # Generate frequent itemsets\n",
    "    print(\"Generating frequent itemsets using apriori...\")\n",
    "    frequent_itemsets = apriori(basket_dense,\n",
    "                               min_support=min_support,\n",
    "                               use_colnames=True)\n",
    "\n",
    "    print(f\"Number of frequent itemsets: {len(frequent_itemsets)}\")\n",
    "    \n",
    "    if frequent_itemsets.empty:\n",
    "        raise ValueError(\"No frequent itemsets found. Try adjusting the min_support.\")\n",
    "\n",
    "    # Generate association rules\n",
    "    print(\"Generating association rules...\")\n",
    "    rules = association_rules(frequent_itemsets,\n",
    "                            metric=\"confidence\",\n",
    "                            min_threshold=min_confidence)\n",
    "\n",
    "    print(f\"Number of association rules: {len(rules)}\")\n",
    "    \n",
    "    # Sort rules by lift\n",
    "    rules = rules.sort_values('lift', ascending=False)\n",
    "\n",
    "    return frequent_itemsets, rules, products\n",
    "\n",
    "def get_product_recommendations(rules_df, product_id, n_recommendations=5):\n",
    "    \"\"\"\n",
    "    Get product recommendations based on a specific product.\n",
    "\n",
    "    Parameters:\n",
    "    rules_df (pandas.DataFrame): Association rules DataFrame\n",
    "    product_id: The product ID to get recommendations for\n",
    "    n_recommendations (int): Number of recommendations to return\n",
    "\n",
    "    Returns:\n",
    "    pandas.DataFrame: Top N recommended products with their confidence and lift scores\n",
    "    \"\"\"\n",
    "    # Filter rules for the given product\n",
    "    mask = rules_df['antecedents'].apply(lambda x: product_id in x)\n",
    "    product_rules = rules_df[mask]\n",
    "\n",
    "    if product_rules.empty:\n",
    "        return pd.DataFrame()\n",
    "\n",
    "    # Extract single items from consequents\n",
    "    recommendations = []\n",
    "    for _, row in product_rules.iterrows():\n",
    "        for item in row['consequents']:\n",
    "            recommendations.append({\n",
    "                'recommended_product': item,\n",
    "                'confidence': row['confidence'],\n",
    "                'lift': row['lift']\n",
    "            })\n",
    "\n",
    "    recommendations_df = pd.DataFrame(recommendations)\n",
    "\n",
    "    # Remove duplicates and sort by lift\n",
    "    if not recommendations_df.empty:\n",
    "        recommendations_df = (recommendations_df\n",
    "                            .sort_values('lift', ascending=False)\n",
    "                            .drop_duplicates('recommended_product')\n",
    "                            .head(n_recommendations))\n",
    "\n",
    "    return recommendations_df\n",
    "\n",
    "# Example usage:\n",
    "# Assuming 'transactions' is your DataFrame\n",
    "\n",
    "min_support = 0.005  # Lowered min support for more frequent itemsets\n",
    "min_confidence = 0.1  # Lowered min confidence for more rules\n",
    "batch_size = 100000\n",
    "\n",
    "print(\"Creating recommender...\")\n",
    "frequent_itemsets, rules, products = create_product_recommender(transactions,\n",
    "                                                                min_support=min_support,\n",
    "                                                                min_confidence=min_confidence,\n",
    "                                                                batch_size=batch_size)\n",
    "\n",
    "# Example: Get product recommendations for a specific product\n",
    "product_id = 2203331223924251032  # Replace with a valid product ID from your data\n",
    "recommendations = get_product_recommendations(rules, product_id, n_recommendations=5)\n",
    "print(\"Top recommendations:\", recommendations)"
   ]
  },
  {
   "cell_type": "markdown",
   "metadata": {},
   "source": [
    "## Recommender 3 - time-series recommendation //  DONE"
   ]
  },
  {
   "cell_type": "code",
   "execution_count": 62,
   "metadata": {},
   "outputs": [
    {
     "data": {
      "image/png": "[encoded data removed]",
      "text/plain": [
       "<Figure size 864x432 with 1 Axes>"
      ]
     },
     "metadata": {
      "needs_background": "light"
     },
     "output_type": "display_data"
    }
   ],
   "source": [
    "import matplotlib.pyplot as plt\n",
    "\n",
    "# Aggregate sales over time\n",
    "transactions['SaleTransactionDate'] = pd.to_datetime(transactions['SaleTransactionDate'])\n",
    "transactions_time_series = transactions.groupby(['SaleTransactionDate'])['Quantity'].sum()\n",
    "\n",
    "# Plot trends\n",
    "transactions_time_series.rolling(window=30).mean().plot(figsize=(12,6))\n",
    "plt.title('Monthly Sales Trend')\n",
    "plt.show()"
   ]
  },
  {
   "cell_type": "code",
   "execution_count": 87,
   "metadata": {},
   "outputs": [],
   "source": [
    "def top_sold_products(n, transactions, start_date, end_date):\n",
    "    \"\"\"\n",
    "    Identify the top 5 most sold products during a given date range.\n",
    "    \n",
    "    Parameters:\n",
    "        transactions (DataFrame): The transactions data containing 'SaleTransactionDate', 'ProductID', and 'Quantity'.\n",
    "        start_date (str): Start date of the peak period (format: 'YYYY-MM-DD').\n",
    "        end_date (str): End date of the peak period (format: 'YYYY-MM-DD').\n",
    "    \n",
    "    Returns:\n",
    "        DataFrame: Top 5 most sold products with their total quantity sold.\n",
    "    \"\"\"\n",
    "    # Ensure the 'SaleTransactionDate' column is in datetime format\n",
    "    transactions['SaleTransactionDate'] = pd.to_datetime(transactions['SaleTransactionDate'])\n",
    "    \n",
    "    # Filter transactions within the specified date range\n",
    "    peak_period_transactions = transactions[\n",
    "        (transactions['SaleTransactionDate'] >= start_date) & \n",
    "        (transactions['SaleTransactionDate'] <= end_date)\n",
    "    ]\n",
    "    \n",
    "    # Group by 'ProductID' and sum the quantities\n",
    "    product_sales = peak_period_transactions.groupby('ProductID')['Quantity'].sum()\n",
    "    \n",
    "    # Sort by quantity in descending order and get the top 5 products\n",
    "    top_products = product_sales.sort_values(ascending=False).head(n)\n",
    "    \n",
    "    return top_products.reset_index()\n"
   ]
  },
  {
   "cell_type": "code",
   "execution_count": 90,
   "metadata": {},
   "outputs": [
    {
     "data": {
      "application/vnd.microsoft.datawrangler.viewer.v0+json": {
       "columns": [
        {
         "name": "index",
         "rawType": "int64",
         "type": "integer"
        },
        {
         "name": "ProductID",
         "rawType": "object",
         "type": "string"
        },
        {
         "name": "Quantity",
         "rawType": "int64",
         "type": "integer"
        }
       ],
       "conversionMethod": "pd.DataFrame",
       "ref": "c6706636-cfec-41f1-85f0-e07ee6eab691",
       "rows": [
        [
         "0",
         "Football Shorts Nike Dri-FIT",
         "5763"
        ],
        [
         "1",
         "Basketball Ball Spalding NBA Official Game Ball",
         "5709"
        ],
        [
         "2",
         "Football Jersey Puma Third Jersey",
         "5699"
        ]
       ],
       "shape": {
        "columns": 2,
        "rows": 3
       }
      },
      "text/html": [
       "<div>\n",
       "<style scoped>\n",
       "    .dataframe tbody tr th:only-of-type {\n",
       "        vertical-align: middle;\n",
       "    }\n",
       "\n",
       "    .dataframe tbody tr th {\n",
       "        vertical-align: top;\n",
       "    }\n",
       "\n",
       "    .dataframe thead th {\n",
       "        text-align: right;\n",
       "    }\n",
       "</style>\n",
       "<table border=\"1\" class=\"dataframe\">\n",
       "  <thead>\n",
       "    <tr style=\"text-align: right;\">\n",
       "      <th></th>\n",
       "      <th>ProductID</th>\n",
       "      <th>Quantity</th>\n",
       "    </tr>\n",
       "  </thead>\n",
       "  <tbody>\n",
       "    <tr>\n",
       "      <th>0</th>\n",
       "      <td>Football Shorts Nike Dri-FIT</td>\n",
       "      <td>5763</td>\n",
       "    </tr>\n",
       "    <tr>\n",
       "      <th>1</th>\n",
       "      <td>Basketball Ball Spalding NBA Official Game Ball</td>\n",
       "      <td>5709</td>\n",
       "    </tr>\n",
       "    <tr>\n",
       "      <th>2</th>\n",
       "      <td>Football Jersey Puma Third Jersey</td>\n",
       "      <td>5699</td>\n",
       "    </tr>\n",
       "  </tbody>\n",
       "</table>\n",
       "</div>"
      ],
      "text/plain": [
       "                                         ProductID  Quantity\n",
       "0                     Football Shorts Nike Dri-FIT      5763\n",
       "1  Basketball Ball Spalding NBA Official Game Ball      5709\n",
       "2                Football Jersey Puma Third Jersey      5699"
      ]
     },
     "execution_count": 90,
     "metadata": {},
     "output_type": "execute_result"
    }
   ],
   "source": [
    "# Example usage\n",
    "# Define the date range for the peak period\n",
    "start_date = '2024-10-01'\n",
    "end_date = '2025-01-31'\n",
    "\n",
    "# Assuming 'transactions' is your DataFrame\n",
    "top_products_during_peak = top_sold_products(3, transactions, start_date, end_date)\n",
    "top_products_during_peak['ProductID'] = top_products_during_peak['ProductID'].apply(lambda x: fetch_product(x))\n",
    "top_products_during_peak\n"
   ]
  },
  {
   "cell_type": "markdown",
   "metadata": {},
   "source": [
    "## Recommender 4 - Store-wide Recommendation // DONE"
   ]
  },
  {
   "cell_type": "code",
   "execution_count": 95,
   "metadata": {},
   "outputs": [
    {
     "data": {
      "application/vnd.microsoft.datawrangler.viewer.v0+json": {
       "columns": [
        {
         "name": "('StoreID', None)",
         "rawType": "object",
         "type": "unknown"
        },
        {
         "name": "ProductID",
         "rawType": "object",
         "type": "string"
        },
        {
         "name": "Quantity",
         "rawType": "int64",
         "type": "integer"
        }
       ],
       "conversionMethod": "pd.DataFrame",
       "ref": "24278552-8e63-4aa0-adf1-7cc701306540",
       "rows": [
        [
         "(85129655194753350, 2914)",
         "Basketball Ball Spalding NBA Official Game Ball",
         "170"
        ],
        [
         "(85129655194753350, 1175)",
         "Basketball Ball Spalding NBA Official Game Ball",
         "118"
        ],
        [
         "(85129655194753350, 1347)",
         "Basketball Ball Wilson Evolution Basketball",
         "105"
        ],
        [
         "(85129655194753350, 1290)",
         "Football Shorts Nike Dri-FIT",
         "87"
        ],
        [
         "(85129655194753350, 2013)",
         "Tennis Racket Babolat Pure Drive",
         "87"
        ],
        [
         "(109432572086092883, 5154)",
         "Basketball Ball Spalding NBA Official Game Ball",
         "84"
        ],
        [
         "(109432572086092883, 6684)",
         "Basketball Shoes Nike Air Zoom BB NXT",
         "83"
        ],
        [
         "(109432572086092883, 6531)",
         "Basketball Ball Wilson Evolution Basketball",
         "58"
        ],
        [
         "(109432572086092883, 6399)",
         "Basketball Ball Spalding NBA Official Game Ball",
         "57"
        ],
        [
         "(109432572086092883, 5339)",
         "Football Shorts Nike Dri-FIT",
         "56"
        ],
        [
         "(149119671542952988, 6783)",
         "Football Jersey Puma Third Jersey",
         "40"
        ],
        [
         "(149119671542952988, 6781)",
         "Football Shorts Nike Dri-FIT",
         "12"
        ],
        [
         "(149119671542952988, 6770)",
         "Football Jersey Puma Third Jersey",
         "4"
        ],
        [
         "(149119671542952988, 6767)",
         "Football Shorts Adidas Squadra 21",
         "3"
        ],
        [
         "(149119671542952988, 6769)",
         "Basketball Shoes Adidas Harden Vol. 4",
         "2"
        ],
        [
         "(149460191848516140, 7305)",
         "Basketball Ball Spalding NBA Official Game Ball",
         "23"
        ],
        [
         "(149460191848516140, 6920)",
         "Football Shorts Adidas Squadra 21",
         "19"
        ],
        [
         "(149460191848516140, 6966)",
         "Tennis Ball Wilson US Open",
         "18"
        ],
        [
         "(149460191848516140, 7086)",
         "Basketball Shoes Under Armour Curry 7",
         "17"
        ],
        [
         "(149460191848516140, 7122)",
         "Tennis Racket Babolat Pure Drive",
         "16"
        ],
        [
         "(183304110821362932, 7681)",
         "Football Shorts Nike Dri-FIT",
         "36"
        ],
        [
         "(183304110821362932, 7546)",
         "Badminton Shuttlecock Victor Gold Champion",
         "35"
        ],
        [
         "(183304110821362932, 7857)",
         "Football Shoes Puma Future",
         "30"
        ],
        [
         "(183304110821362932, 8247)",
         "Football Jersey Puma Third Jersey",
         "25"
        ],
        [
         "(183304110821362932, 8088)",
         "Football Shorts Nike Dri-FIT",
         "23"
        ],
        [
         "(307691727479987170, 8472)",
         "Handball Ball Select Ultimate",
         "22"
        ],
        [
         "(307691727479987170, 8500)",
         "Handball Ball Molten H3X5001",
         "21"
        ],
        [
         "(307691727479987170, 8819)",
         "Football Shoes Puma Future",
         "20"
        ],
        [
         "(307691727479987170, 8797)",
         "Handball Ball Molten H3X5001",
         "19"
        ],
        [
         "(307691727479987170, 8570)",
         "Handball Ball Molten H3X5001",
         "17"
        ],
        [
         "(409651753495599622, 9258)",
         "Tennis Ball Wilson US Open",
         "95"
        ],
        [
         "(409651753495599622, 9921)",
         "Tennis Racket Babolat Pure Drive",
         "88"
        ],
        [
         "(409651753495599622, 10700)",
         "Football Jersey Puma Third Jersey",
         "77"
        ],
        [
         "(409651753495599622, 9980)",
         "Football Shoes Puma Future",
         "65"
        ],
        [
         "(409651753495599622, 10101)",
         "Tennis Ball Penn Championship",
         "59"
        ],
        [
         "(570842715565825204, 11565)",
         "Football Jersey Nike Away Jersey",
         "32"
        ],
        [
         "(570842715565825204, 11018)",
         "Cycling Bike Trek Domane SL7",
         "29"
        ],
        [
         "(570842715565825204, 11238)",
         "Football Shoes Puma Future",
         "29"
        ],
        [
         "(570842715565825204, 11719)",
         "Cycling Bike Trek Domane SL7",
         "27"
        ],
        [
         "(570842715565825204, 12177)",
         "Football Jersey Puma Third Jersey",
         "26"
        ],
        [
         "(706529103658160051, 12388)",
         "Tennis Ball Wilson US Open",
         "127"
        ],
        [
         "(706529103658160051, 13618)",
         "Tennis Racket Babolat Pure Drive",
         "120"
        ],
        [
         "(706529103658160051, 13496)",
         "Basketball Shoes Under Armour Curry 7",
         "102"
        ],
        [
         "(706529103658160051, 13968)",
         "Tennis Ball Wilson US Open",
         "93"
        ],
        [
         "(706529103658160051, 14318)",
         "Basketball Ball Spalding NBA Official Game Ball",
         "77"
        ],
        [
         "(708932262589096666, 14983)",
         "Beach Goggles Speedo Vanquisher 2.0",
         "50"
        ],
        [
         "(708932262589096666, 15035)",
         "Beach Goggles TYR Blackhawk Racing",
         "37"
        ],
        [
         "(708932262589096666, 14805)",
         "Beach Goggles TYR Blackhawk Racing",
         "35"
        ],
        [
         "(708932262589096666, 15146)",
         "Beach Goggles Speedo Vanquisher 2.0",
         "34"
        ],
        [
         "(708932262589096666, 14878)",
         "Beach Goggles Arena Cobra Ultra",
         "33"
        ]
       ],
       "shape": {
        "columns": 2,
        "rows": 752
       }
      },
      "text/html": [
       "<div>\n",
       "<style scoped>\n",
       "    .dataframe tbody tr th:only-of-type {\n",
       "        vertical-align: middle;\n",
       "    }\n",
       "\n",
       "    .dataframe tbody tr th {\n",
       "        vertical-align: top;\n",
       "    }\n",
       "\n",
       "    .dataframe thead th {\n",
       "        text-align: right;\n",
       "    }\n",
       "</style>\n",
       "<table border=\"1\" class=\"dataframe\">\n",
       "  <thead>\n",
       "    <tr style=\"text-align: right;\">\n",
       "      <th></th>\n",
       "      <th></th>\n",
       "      <th>ProductID</th>\n",
       "      <th>Quantity</th>\n",
       "    </tr>\n",
       "    <tr>\n",
       "      <th>StoreID</th>\n",
       "      <th></th>\n",
       "      <th></th>\n",
       "      <th></th>\n",
       "    </tr>\n",
       "  </thead>\n",
       "  <tbody>\n",
       "    <tr>\n",
       "      <th rowspan=\"5\" valign=\"top\">85129655194753350</th>\n",
       "      <th>2914</th>\n",
       "      <td>Basketball Ball Spalding NBA Official Game Ball</td>\n",
       "      <td>170</td>\n",
       "    </tr>\n",
       "    <tr>\n",
       "      <th>1175</th>\n",
       "      <td>Basketball Ball Spalding NBA Official Game Ball</td>\n",
       "      <td>118</td>\n",
       "    </tr>\n",
       "    <tr>\n",
       "      <th>1347</th>\n",
       "      <td>Basketball Ball Wilson Evolution Basketball</td>\n",
       "      <td>105</td>\n",
       "    </tr>\n",
       "    <tr>\n",
       "      <th>1290</th>\n",
       "      <td>Football Shorts Nike Dri-FIT</td>\n",
       "      <td>87</td>\n",
       "    </tr>\n",
       "    <tr>\n",
       "      <th>2013</th>\n",
       "      <td>Tennis Racket Babolat Pure Drive</td>\n",
       "      <td>87</td>\n",
       "    </tr>\n",
       "    <tr>\n",
       "      <th>...</th>\n",
       "      <th>...</th>\n",
       "      <td>...</td>\n",
       "      <td>...</td>\n",
       "    </tr>\n",
       "    <tr>\n",
       "      <th rowspan=\"5\" valign=\"top\">9099531021898466037</th>\n",
       "      <th>321468</th>\n",
       "      <td>Football Jersey Puma Third Jersey</td>\n",
       "      <td>175</td>\n",
       "    </tr>\n",
       "    <tr>\n",
       "      <th>321551</th>\n",
       "      <td>Tennis Ball Wilson US Open</td>\n",
       "      <td>112</td>\n",
       "    </tr>\n",
       "    <tr>\n",
       "      <th>320387</th>\n",
       "      <td>Football Shoes Puma Future</td>\n",
       "      <td>109</td>\n",
       "    </tr>\n",
       "    <tr>\n",
       "      <th>320027</th>\n",
       "      <td>Football Ball Nike Ordem V</td>\n",
       "      <td>105</td>\n",
       "    </tr>\n",
       "    <tr>\n",
       "      <th>320571</th>\n",
       "      <td>Tennis Ball Penn Championship</td>\n",
       "      <td>95</td>\n",
       "    </tr>\n",
       "  </tbody>\n",
       "</table>\n",
       "<p>752 rows × 2 columns</p>\n",
       "</div>"
      ],
      "text/plain": [
       "                                                                  ProductID  \\\n",
       "StoreID                                                                       \n",
       "85129655194753350   2914    Basketball Ball Spalding NBA Official Game Ball   \n",
       "                    1175    Basketball Ball Spalding NBA Official Game Ball   \n",
       "                    1347        Basketball Ball Wilson Evolution Basketball   \n",
       "                    1290                       Football Shorts Nike Dri-FIT   \n",
       "                    2013                   Tennis Racket Babolat Pure Drive   \n",
       "...                                                                     ...   \n",
       "9099531021898466037 321468                Football Jersey Puma Third Jersey   \n",
       "                    321551                       Tennis Ball Wilson US Open   \n",
       "                    320387                       Football Shoes Puma Future   \n",
       "                    320027                       Football Ball Nike Ordem V   \n",
       "                    320571                    Tennis Ball Penn Championship   \n",
       "\n",
       "                            Quantity  \n",
       "StoreID                               \n",
       "85129655194753350   2914         170  \n",
       "                    1175         118  \n",
       "                    1347         105  \n",
       "                    1290          87  \n",
       "                    2013          87  \n",
       "...                              ...  \n",
       "9099531021898466037 321468       175  \n",
       "                    321551       112  \n",
       "                    320387       109  \n",
       "                    320027       105  \n",
       "                    320571        95  \n",
       "\n",
       "[752 rows x 2 columns]"
      ]
     },
     "execution_count": 95,
     "metadata": {},
     "output_type": "execute_result"
    }
   ],
   "source": [
    "df_store = transactions.groupby(['StoreID', 'ProductID'])['Quantity'].sum().reset_index()\n",
    "top_products_per_store = df_store.groupby('StoreID').apply(lambda x: x.nlargest(5, 'Quantity'), include_groups=False)\n",
    "\n",
    "top_products_per_store['ProductID'] = top_products_per_store['ProductID'].apply(lambda x: fetch_product(x))\n",
    "\n",
    "(top_products_per_store)"
   ]
  },
  {
   "cell_type": "code",
   "execution_count": null,
   "metadata": {},
   "outputs": [],
   "source": []
  }
 ],
 "metadata": {
  "kernelspec": {
   "display_name": "Python 3",
   "language": "python",
   "name": "python3"
  },
  "language_info": {
   "codemirror_mode": {
    "name": "ipython",
    "version": 3
   },
   "file_extension": ".py",
   "mimetype": "text/x-python",
   "name": "python",
   "nbconvert_exporter": "python",
   "pygments_lexer": "ipython3",
   "version": "3.10.2"
  }
 },
 "nbformat": 4,
 "nbformat_minor": 2
}
