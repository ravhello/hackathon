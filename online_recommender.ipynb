{
 "cells": [
  {
   "cell_type": "markdown",
   "id": "4a5415d4",
   "metadata": {},
   "source": [
    "# Online Factorization Model with Vowpal Wabbit\n",
    "\n",
    "This notebook implements an online model to rank products (or ads) for each client. It:\n",
    "1. Loads and preprocesses the dataset (with time-based and expanding features).\n",
    "2. Encodes each transaction into a Vowpal Wabbit (VW) input string.\n",
    "3. Trains a VW model incrementally.\n",
    "4. Demonstrates scoring and online updates.\n",
    "\n",
    "Make sure you have Vowpal Wabbit installed (e.g., run `%pip install vowpalwabbit` if needed)."
   ]
  },
  {
   "cell_type": "code",
   "execution_count": null,
   "id": "b48b6621",
   "metadata": {},
   "outputs": [],
   "source": [
    "# Install Vowpal Wabbit if needed (uncomment the next line)\n",
    "# %pip install vowpalwabbit\n",
    "\n",
    "import pandas as pd\n",
    "import numpy as np\n",
    "import os\n",
    "from vowpalwabbit import pyvw\n",
    "\n",
    "print(\"Environment setup complete.\")"
   ]
  },
  {
   "cell_type": "markdown",
   "id": "19e135dd",
   "metadata": {},
   "source": [
    "## 1. Load & Preprocess Data"
   ]
  },
  {
   "cell_type": "code",
   "execution_count": null,
   "id": "826d77a4",
   "metadata": {},
   "outputs": [],
   "source": [
    "# Load the dataset\n",
    "final_df = pd.read_parquet('final_df.parquet')\n",
    "print(\"Initial shape:\", final_df.shape)\n",
    "display(final_df.head())\n",
    "\n",
    "# Convert TransactionDate to datetime and sort\n",
    "final_df['TransactionDate'] = pd.to_datetime(final_df['TransactionDate'])\n",
    "final_df = final_df.sort_values(by='TransactionDate').reset_index(drop=True)\n",
    "print(\"Shape after sorting:\", final_df.shape)\n",
    "print(final_df['TransactionDate'].describe())"
   ]
  },
  {
   "cell_type": "markdown",
   "id": "f4e660f8",
   "metadata": {},
   "source": [
    "## 8. Encode Data for Online Learning with Vowpal Wabbit"
   ]
  },
  {
   "cell_type": "code",
   "execution_count": null,
   "id": "1a7ec41e",
   "metadata": {},
   "outputs": [],
   "source": [
    "def to_vw_format(row):\n",
    "    \"\"\"\n",
    "    Convert a single transaction row into VW format:\n",
    "    <label> |u <user features> |i <item features> |c <context features>\n",
    "    \"\"\"\n",
    "    label = 1.0  # positive example\n",
    "    \n",
    "    # User features (namespace |u)\n",
    "    user_feats = []\n",
    "    user_feats.append(f\"u_clientID_{row['ClientID']}\")\n",
    "    user_feats.append(f\"Universe_{row.get('Universe', 'UNK')}\")\n",
    "    gender = row.get(\"ClientGender\", \"UNK\")\n",
    "    if pd.isnull(gender):\n",
    "        gender = \"UNK\"\n",
    "    user_feats.append(f\"Gender_{gender}\")\n",
    "    age = row.get(\"Age\", np.nan)\n",
    "    if pd.isnull(age):\n",
    "        age_bucket = \"AGE_UNKNOWN\"\n",
    "    else:\n",
    "        age_bucket = f\"AGE_{int(age)//10*10}\"\n",
    "    user_feats.append(age_bucket)\n",
    "    \n",
    "    # Item features (namespace |i)\n",
    "    item_feats = []\n",
    "    item_feats.append(f\"i_productID_{row['ProductID']}\")\n",
    "    brand = row.get(\"Brand\", \"UNK\").replace(\" \", \"_\")\n",
    "    item_feats.append(f\"Brand_{brand}\")\n",
    "    category = row.get(\"Category\", \"UNK\").replace(\" \", \"_\")\n",
    "    item_feats.append(f\"Cat_{category}\")\n",
    "    \n",
    "    # Context features (namespace |c)\n",
    "    context_feats = []\n",
    "    context_feats.append(f\"DOW_{row.get('DayOfWeek', -1)}\")\n",
    "    season = row.get(\"Season\", \"UNK\").replace(\" \", \"_\")\n",
    "    context_feats.append(f\"Season_{season}\")\n",
    "    avg_amt = row.get(\"AverageAmountPerTransactionSoFar\", 0.0)\n",
    "    context_feats.append(f\"avgAmt:{avg_amt:.2f}\")\n",
    "    \n",
    "    line = f\"{label} |u \" + \" \".join(user_feats) + \" |i \" + \" \".join(item_feats) + \" |c \" + \" \".join(context_feats)\n",
    "    return line\n",
    "\n",
    "# Generate VW training lines for all rows\n",
    "vw_train_lines = final_df.apply(to_vw_format, axis=1).tolist()\n",
    "print(f\"Generated {len(vw_train_lines)} VW training lines.\")\n",
    "print(\"Example line:\", vw_train_lines[0])"
   ]
  },
  {
   "cell_type": "markdown",
   "id": "b7a4c449",
   "metadata": {},
   "source": [
    "## 9. Train the Online Model with Vowpal Wabbit"
   ]
  },
  {
   "cell_type": "code",
   "execution_count": null,
   "id": "958c036b",
   "metadata": {},
   "outputs": [],
   "source": [
    "model = pyvw.Workspace(\n",
    "    learning_rate=0.5,\n",
    "    passes=1,\n",
    "    bit_precision=28,\n",
    "    loss_function=\"logistic\",\n",
    "    link=\"logistic\",\n",
    "    quiet=True,\n",
    "    k=True,\n",
    "    random_seed=42\n",
    ")\n",
    "\n",
    "for ln in vw_train_lines:\n",
    "    model.learn(ln)\n",
    "\n",
    "print(\"VW model training complete!\")"
   ]
  },
  {
   "cell_type": "markdown",
   "id": "d5a5e661",
   "metadata": {},
   "source": [
    "## 10. Score Candidate Products for a Given User"
   ]
  },
  {
   "cell_type": "code",
   "execution_count": null,
   "id": "76c5a008",
   "metadata": {},
   "outputs": [],
   "source": [
    "def predict_score(vw_model, user_info, item_info, context_info):\n",
    "    # Build a VW inference line without a label (using 0 as placeholder)\n",
    "    line = \"0 |u \"\n",
    "    line += f\"u_clientID_{user_info.get('ClientID', 'UNK')} \"\n",
    "    line += f\"Universe_{user_info.get('Universe', 'UNK')} \"\n",
    "    line += f\"Gender_{user_info.get('ClientGender', 'UNK')} \"\n",
    "    age = user_info.get('Age', None)\n",
    "    if age is None:\n",
    "        age_bucket = \"AGE_UNKNOWN\"\n",
    "    else:\n",
    "        age_bucket = f\"AGE_{int(age)//10*10}\"\n",
    "    line += age_bucket + \" \"\n",
    "    \n",
    "    line += \"|i \"\n",
    "    line += f\"i_productID_{item_info.get('ProductID', 'UNK')} \"\n",
    "    brand = item_info.get('Brand', 'UNK').replace(\" \", \"_\")\n",
    "    line += f\"Brand_{brand} \"\n",
    "    category = item_info.get('Category', 'UNK').replace(\" \", \"_\")\n",
    "    line += f\"Cat_{category} \"\n",
    "    \n",
    "    line += \"|c \"\n",
    "    line += f\"DOW_{context_info.get('DayOfWeek', -1)} \"\n",
    "    season = context_info.get('Season', 'UNK').replace(\" \", \"_\")\n",
    "    line += f\"Season_{season} \"\n",
    "    line += f\"avgAmt:{context_info.get('avgAmt', 0.0):.2f}\"\n",
    "    \n",
    "    pred = vw_model.predict(line)\n",
    "    return pred\n",
    "\n",
    "# Example candidate items for a given user\n",
    "example_user = {\"ClientID\": 1000001, \"Universe\": \"Men\", \"ClientGender\": \"M\", \"Age\": 29}\n",
    "example_context = {\"DayOfWeek\": 3, \"Season\": \"Spring\", \"avgAmt\": 45.0}\n",
    "\n",
    "candidate_items = [\n",
    "    {\"ProductID\": \"12345\", \"Brand\": \"Nike\", \"Category\": \"Football\"},\n",
    "    {\"ProductID\": \"23456\", \"Brand\": \"Adidas\", \"Category\": \"Running\"},\n",
    "    {\"ProductID\": \"34567\", \"Brand\": \"Puma\", \"Category\": \"Basketball\"},\n",
    "    {\"ProductID\": \"45678\", \"Brand\": \"Head\", \"Category\": \"Tennis\"},\n",
    "    {\"ProductID\": \"56789\", \"Brand\": \"Unknown\", \"Category\": \"Beach\"}\n",
    "]\n",
    "\n",
    "scores = []\n",
    "for item in candidate_items:\n",
    "    s = predict_score(model, example_user, item, example_context)\n",
    "    scores.append((item, s))\n",
    "\n",
    "scores_sorted = sorted(scores, key=lambda x: x[1], reverse=True)\n",
    "print(\"Ranking for user 1000001:\")\n",
    "for item, score in scores_sorted:\n",
    "    print(f\"  Product {item['ProductID']} -> Score: {score:.4f}\")"
   ]
  },
  {
   "cell_type": "markdown",
   "id": "408ad799",
   "metadata": {},
   "source": [
    "## 11. Online Update Example\n",
    "\n",
    "This cell shows how you can update the model in real time with a new transaction."
   ]
  },
  {
   "cell_type": "code",
   "execution_count": null,
   "id": "0d167233",
   "metadata": {},
   "outputs": [],
   "source": [
    "new_transaction = {\n",
    "    \"ClientID\": 888888,\n",
    "    \"Universe\": \"Women\",\n",
    "    \"ClientGender\": \"F\",\n",
    "    \"Age\": 31,\n",
    "    \"ProductID\": \"55555\",\n",
    "    \"Brand\": \"Reebok\",\n",
    "    \"Category\": \"Handball\",\n",
    "    \"DayOfWeek\": 4,\n",
    "    \"Season\": \"Spring\",\n",
    "    \"AverageAmountPerTransactionSoFar\": 22.5\n",
    "}\n",
    "\n",
    "vw_line_new = f\"1 |u u_clientID_{new_transaction['ClientID']} \"\n",
    "vw_line_new += f\"Universe_{new_transaction['Universe']} \"\n",
    "vw_line_new += f\"Gender_{new_transaction['ClientGender']} \"\n",
    "vw_line_new += f\"AGE_{int(new_transaction['Age'])//10*10} \"\n",
    "vw_line_new += \"|i i_productID_\" + str(new_transaction['ProductID']) + \" \"\n",
    "vw_line_new += f\"Brand_{new_transaction['Brand'].replace(' ', '_')} \"\n",
    "vw_line_new += f\"Cat_{new_transaction['Category'].replace(' ', '_')} \"\n",
    "vw_line_new += \"|c \"\n",
    "vw_line_new += f\"DOW_{new_transaction['DayOfWeek']} \"\n",
    "vw_line_new += f\"Season_{new_transaction['Season']} \"\n",
    "vw_line_new += f\"avgAmt:{new_transaction['AverageAmountPerTransactionSoFar']:.2f}\"\n",
    "\n",
    "print(\"New VW line:\", vw_line_new)\n",
    "model.learn(vw_line_new)\n",
    "print(\"Model updated with new transaction.\")"
   ]
  },
  {
   "cell_type": "markdown",
   "id": "d5717d9f",
   "metadata": {},
   "source": [
    "## 12. Save Final DataFrame and Clean Up"
   ]
  },
  {
   "cell_type": "code",
   "execution_count": null,
   "id": "acc4adfe",
   "metadata": {},
   "outputs": [],
   "source": [
    "final_df.to_parquet(\"final_df.parquet\", index=False)\n",
    "print(\"Saved final_df as final_df.parquet\")\n",
    "os.remove(\"final_dataframe.csv\")\n",
    "print(\"Removed final_dataframe.csv\")"
   ]
  },
  {
   "cell_type": "markdown",
   "id": "3d290fc5",
   "metadata": {},
   "source": [
    "## End of Notebook\n",
    "\n",
    "This completes the online recommendation pipeline using Vowpal Wabbit."
   ]
  }
 ],
 "metadata": {
  "kernelspec": {
   "display_name": "Python 3",
   "language": "python",
   "name": "python3"
  },
  "language_info": {
   "name": "python",
   "version": "3.x"
  }
 },
 "nbformat": 4,
 "nbformat_minor": 5
}
